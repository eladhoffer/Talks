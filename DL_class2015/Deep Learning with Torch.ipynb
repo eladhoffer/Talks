{
 "cells": [
  {
   "cell_type": "markdown",
   "metadata": {},
   "source": [
    "# Deep Learning with Torch: the 60-minute blitz"
   ]
  },
  {
   "cell_type": "markdown",
   "metadata": {},
   "source": [
    "Based on http://nbviewer.ipython.org/github/soumith/talks/blob/master/gtc2015/Deep%20Learning%20with%20Torch.ipynb by Soumith Chintala\n",
    "\n",
    "\n",
    "###Goal of this talk\n",
    "* Understand torch and the neural networks package at a high-level.\n",
    "* Train a small neural network on CPU and GPU"
   ]
  },
  {
   "cell_type": "markdown",
   "metadata": {},
   "source": [
    "##What is Torch?"
   ]
  },
  {
   "cell_type": "markdown",
   "metadata": {},
   "source": [
    "Torch is an scientific computing framework based on Lua[JIT] with strong CPU and CUDA backends.\n",
    "\n",
    "Strong points of Torch:\n",
    "\n",
    "* Efficient Tensor library (like NumPy) with an efficient CUDA backend\n",
    "* Neural Networks package -- build arbitrary acyclic computation graphs with automatic differentiation\n",
    "   * also with fast CUDA and CPU backends\n",
    "* Good community and industry support - several hundred community-built and maintained packages.\n",
    "* Easy to use Multi-GPU support and parallelizing neural networks\n",
    "\n",
    "http://torch.ch  \n",
    "https://github.com/torch/torch7/wiki/Cheatsheet"
   ]
  },
  {
   "cell_type": "markdown",
   "metadata": {},
   "source": [
    "##Before getting started"
   ]
  },
  {
   "cell_type": "markdown",
   "metadata": {},
   "source": [
    "* Based on Lua and runs on Lua-JIT (Just-in-time compiler) which is fast\n",
    "* Lua is pretty close to javascript.\n",
    "   * variables are global by default, unless `local` keyword is used\n",
    "* Only has one data structure built-in, a table: `{}`. Doubles as a hash-table and an array.\n",
    "* 1-based indexing.\n",
    "* `foo:bar()` is the same as `foo.bar(foo)`"
   ]
  },
  {
   "cell_type": "markdown",
   "metadata": {},
   "source": [
    "##Getting Started\n",
    "#### Strings, numbers, tables - a tiny introduction"
   ]
  },
  {
   "cell_type": "code",
   "execution_count": 1,
   "metadata": {
    "collapsed": false
   },
   "outputs": [],
   "source": [
    "a = 'hello'"
   ]
  },
  {
   "cell_type": "code",
   "execution_count": 2,
   "metadata": {
    "collapsed": false
   },
   "outputs": [
    {
     "data": {
      "text/plain": [
       "hello\t\n"
      ]
     },
     "execution_count": 2,
     "metadata": {},
     "output_type": "execute_result"
    }
   ],
   "source": [
    "print(a)"
   ]
  },
  {
   "cell_type": "code",
   "execution_count": 4,
   "metadata": {
    "collapsed": false
   },
   "outputs": [],
   "source": [
    "b = {}"
   ]
  },
  {
   "cell_type": "code",
   "execution_count": 5,
   "metadata": {
    "collapsed": false
   },
   "outputs": [],
   "source": [
    "b[1] = a"
   ]
  },
  {
   "cell_type": "code",
   "execution_count": 6,
   "metadata": {
    "collapsed": false
   },
   "outputs": [
    {
     "data": {
      "text/plain": [
       "{\n",
       "  1 : hello\n",
       "}\n"
      ]
     },
     "execution_count": 6,
     "metadata": {},
     "output_type": "execute_result"
    }
   ],
   "source": [
    "print(b)"
   ]
  },
  {
   "cell_type": "code",
   "execution_count": 7,
   "metadata": {
    "collapsed": false
   },
   "outputs": [],
   "source": [
    "b[2] = 30"
   ]
  },
  {
   "cell_type": "code",
   "execution_count": 8,
   "metadata": {
    "collapsed": false
   },
   "outputs": [
    {
     "data": {
      "text/plain": [
       "hello\t\n",
       "30\t\n"
      ]
     },
     "execution_count": 8,
     "metadata": {},
     "output_type": "execute_result"
    }
   ],
   "source": [
    "for i=1,#b do -- the # operator is the length operator in Lua\n",
    "    print(b[i]) \n",
    "end"
   ]
  },
  {
   "cell_type": "markdown",
   "metadata": {},
   "source": [
    "####Tensors"
   ]
  },
  {
   "cell_type": "code",
   "execution_count": 1,
   "metadata": {
    "collapsed": false
   },
   "outputs": [],
   "source": [
    "a = torch.Tensor(5,3) -- construct a 5x3 matrix, uninitialized"
   ]
  },
  {
   "cell_type": "code",
   "execution_count": 2,
   "metadata": {
    "collapsed": false,
    "scrolled": true
   },
   "outputs": [
    {
     "data": {
      "text/plain": [
       " 0.1021  0.2428  0.6334\n",
       " 0.6574  0.6234  0.0170\n",
       " 0.3294  0.1679  0.3694\n",
       " 0.0123  0.7631  0.6857\n",
       " 0.3726  0.7268  0.0870\n",
       "[torch.DoubleTensor of size 5x3]\n",
       "\n"
      ]
     },
     "execution_count": 2,
     "metadata": {},
     "output_type": "execute_result"
    }
   ],
   "source": [
    "a = torch.rand(5,3)\n",
    "print(a)"
   ]
  },
  {
   "cell_type": "code",
   "execution_count": 3,
   "metadata": {
    "collapsed": false
   },
   "outputs": [],
   "source": [
    "b=torch.rand(3,4)"
   ]
  },
  {
   "cell_type": "code",
   "execution_count": 4,
   "metadata": {
    "collapsed": false
   },
   "outputs": [
    {
     "data": {
      "text/plain": [
       " 0.1776  0.7878  0.3004  0.5442\n",
       " 0.8041  0.7179  0.7229  0.3376\n",
       " 0.3641  0.5756  0.3586  0.3518\n",
       " 0.2515  1.1932  0.5074  0.7974\n",
       " 0.5697  0.7566  0.6063  0.4056\n",
       "[torch.DoubleTensor of size 5x4]\n",
       "\n"
      ]
     },
     "execution_count": 4,
     "metadata": {},
     "output_type": "execute_result"
    }
   ],
   "source": [
    "-- matrix-matrix multiplication: syntax 1\n",
    "a*b "
   ]
  },
  {
   "cell_type": "code",
   "execution_count": 5,
   "metadata": {
    "collapsed": false
   },
   "outputs": [
    {
     "data": {
      "text/plain": [
       " 0.1776  0.7878  0.3004  0.5442\n",
       " 0.8041  0.7179  0.7229  0.3376\n",
       " 0.3641  0.5756  0.3586  0.3518\n",
       " 0.2515  1.1932  0.5074  0.7974\n",
       " 0.5697  0.7566  0.6063  0.4056\n",
       "[torch.DoubleTensor of size 5x4]\n",
       "\n"
      ]
     },
     "execution_count": 5,
     "metadata": {},
     "output_type": "execute_result"
    }
   ],
   "source": [
    "-- matrix-matrix multiplication: syntax 2\n",
    "torch.mm(a,b) "
   ]
  },
  {
   "cell_type": "code",
   "execution_count": 6,
   "metadata": {
    "collapsed": false
   },
   "outputs": [],
   "source": [
    "-- matrix-matrix multiplication: syntax 3\n",
    "c=torch.Tensor(5,4)\n",
    "c:mm(a,b) -- store the result of a*b in c"
   ]
  },
  {
   "cell_type": "markdown",
   "metadata": {},
   "source": [
    "####CUDA Tensors\n",
    "Tensors can be moved onto GPU using the :cuda function"
   ]
  },
  {
   "cell_type": "code",
   "execution_count": 7,
   "metadata": {
    "collapsed": false
   },
   "outputs": [],
   "source": [
    "require 'cutorch';\n",
    "a = a:cuda()\n",
    "b = b:cuda()\n",
    "c = c:cuda()\n",
    "c:mm(a,b) -- done on GPU"
   ]
  },
  {
   "cell_type": "markdown",
   "metadata": {},
   "source": [
    "### Neural Networks\n",
    "Neural networks in Torch can be constructed using the `nn` package."
   ]
  },
  {
   "cell_type": "code",
   "execution_count": 1,
   "metadata": {
    "collapsed": false
   },
   "outputs": [],
   "source": [
    "require 'nn';"
   ]
  },
  {
   "cell_type": "markdown",
   "metadata": {},
   "source": [
    "`Modules` are the bricks used to build neural networks. Each are themselves neural networks, but can be combined with other networks using `containers` to create complex neural networks"
   ]
  },
  {
   "cell_type": "markdown",
   "metadata": {},
   "source": [
    "For example, look at this network that classfies digit images:\n",
    "![LeNet](http://fastml.com/images/cifar/lenet5.png)"
   ]
  },
  {
   "cell_type": "markdown",
   "metadata": {},
   "source": [
    "It is a simple feed-forward network.   \n",
    "It takes the input, feeds it through several layers one after the other, and then finally gives the output.\n",
    "\n",
    "Such a network container is `nn.Sequential` which feeds the input through several layers."
   ]
  },
  {
   "cell_type": "code",
   "execution_count": 21,
   "metadata": {
    "collapsed": false
   },
   "outputs": [
    {
     "data": {
      "text/plain": [
       "Lenet5\n",
       "nn.Sequential {\n",
       "  [input -> (1) -> (2) -> (3) -> (4) -> (5) -> (6) -> (7) -> (8) -> (9) -> output]\n",
       "  (1): nn.SpatialConvolution\n",
       "  (2): nn.SpatialMaxPooling\n",
       "  (3): nn.SpatialConvolution\n",
       "  (4): nn.SpatialMaxPooling\n",
       "  (5): nn.View\n",
       "  (6): nn.Linear(400 -> 120)\n",
       "  (7): nn.Linear(120 -> 84)\n",
       "  (8): nn.Linear(84 -> 10)\n",
       "  (9): nn.LogSoftMax\n",
       "}\t\n"
      ]
     },
     "execution_count": 21,
     "metadata": {},
     "output_type": "execute_result"
    }
   ],
   "source": [
    "net = nn.Sequential()\n",
    "net:add(nn.SpatialConvolution(1, 6, 5, 5))  -- 1 input image channel, 6 output channels, 5x5 convolution kernel\n",
    "net:add(nn.SpatialMaxPooling(2,2,2,2))      -- A max-pooling operation that looks at 2x2 windows and finds the max.\n",
    "net:add(nn.SpatialConvolution(6, 16, 5, 5))\n",
    "net:add(nn.SpatialMaxPooling(2,2,2,2))\n",
    "net:add(nn.View(16*5*5))                    -- reshapes from a 3D tensor of 16x5x5 into 1D tensor of 16*5*5\n",
    "net:add(nn.Linear(16*5*5, 120))             -- fully connected layer (matrix multiplication between input and weights)\n",
    "net:add(nn.Linear(120, 84))\n",
    "net:add(nn.Linear(84, 10))                   -- 10 is the number of outputs of the network (in this case, 10 digits)\n",
    "net:add(nn.LogSoftMax())                     -- converts the output to a log-probability. Useful for classification problems\n",
    "\n",
    "print('Lenet5\\n' .. net:__tostring());"
   ]
  },
  {
   "cell_type": "markdown",
   "metadata": {},
   "source": [
    "Other examples of nn containers are shown in the figure below:\n",
    "![containers](https://raw.githubusercontent.com/soumith/ex/gh-pages/assets/nn_containers.png)\n",
    "\n",
    "Every neural network module in torch has automatic differentiation.\n",
    "It has a `:forward(input)` function that computes the output for a given input, flowing the input through the network.\n",
    "and it has a `:backward(input, gradient)` function that will differentiate each neuron in the network w.r.t. the gradient that is passed in. This is done via the chain rule."
   ]
  },
  {
   "cell_type": "code",
   "execution_count": null,
   "metadata": {
    "collapsed": false
   },
   "outputs": [],
   "source": [
    "input = torch.rand(1,32,32) -- pass a random tensor as input to the network"
   ]
  },
  {
   "cell_type": "code",
   "execution_count": null,
   "metadata": {
    "collapsed": false
   },
   "outputs": [],
   "source": [
    "output = net:forward(input)"
   ]
  },
  {
   "cell_type": "code",
   "execution_count": null,
   "metadata": {
    "collapsed": false
   },
   "outputs": [],
   "source": [
    "print(output)"
   ]
  },
  {
   "cell_type": "code",
   "execution_count": null,
   "metadata": {
    "collapsed": false
   },
   "outputs": [],
   "source": [
    "net:zeroGradParameters() -- zero the internal gradient buffers of the network (will come to this later)"
   ]
  },
  {
   "cell_type": "code",
   "execution_count": null,
   "metadata": {
    "collapsed": false
   },
   "outputs": [],
   "source": [
    "gradInput = net:backward(input, torch.rand(10))"
   ]
  },
  {
   "cell_type": "code",
   "execution_count": null,
   "metadata": {
    "collapsed": false
   },
   "outputs": [],
   "source": [
    "print(#gradInput)"
   ]
  },
  {
   "cell_type": "markdown",
   "metadata": {},
   "source": [
    "### Criterion: Defining a loss function\n",
    "When you want a model to learn to do something, you give it feedback on how well it is doing. This function that computes an objective measure of the model's performance is called a __loss function__.\n",
    "\n",
    "A typical loss function takes in the model's output and the groundtruth and computes a value that quantifies the model's performance.\n",
    "\n",
    "The model then corrects itself to have a smaller loss.\n",
    "\n",
    "In torch, loss functions are implemented just like neural network modules, and have automatic differentiation.  \n",
    "They have two functions - `forward(input, target)`, `backward(input, target)`\n",
    "\n",
    "For example:"
   ]
  },
  {
   "cell_type": "code",
   "execution_count": null,
   "metadata": {
    "collapsed": false
   },
   "outputs": [],
   "source": [
    "criterion = nn.ClassNLLCriterion() -- a negative log-likelihood criterion for multi-class classification\n",
    "criterion:forward(output, 3) -- let's say the groundtruth was class number: 3\n",
    "gradients = criterion:backward(output, 3)"
   ]
  },
  {
   "cell_type": "code",
   "execution_count": null,
   "metadata": {
    "collapsed": false
   },
   "outputs": [],
   "source": [
    "gradInput = net:backward(input, gradients)"
   ]
  },
  {
   "cell_type": "markdown",
   "metadata": {},
   "source": [
    "#####Review of what you learnt so far\n",
    "* Network can have many layers of computation\n",
    "* Network takes an input and produces an output in the :forward pass\n",
    "* Criterion computes the loss of the network, and it's gradients w.r.t. the output of the network.\n",
    "* Network takes an (input, gradients) pair in it's backward pass and calculates the gradients w.r.t. each layer (and neuron) in the network.\n",
    "\n",
    "##### Missing details\n",
    "> A neural network layer can have learnable parameters or not.\n",
    "\n",
    "A convolution layer learns it's convolution kernels to adapt to the input data and the problem being solved.  \n",
    "A max-pooling layer has no learnable parameters. It only finds the max of local windows.\n",
    "\n",
    "A layer in torch which has learnable weights, will typically have fields .weight (and optionally, .bias)"
   ]
  },
  {
   "cell_type": "code",
   "execution_count": 75,
   "metadata": {
    "collapsed": false
   },
   "outputs": [
    {
     "data": {
      "text/plain": [
       "(1,1,.,.) = \n",
       "  0.1409 -0.3583\n",
       "  0.2189 -0.3830\n",
       "\n",
       "(2,1,.,.) = \n",
       "  0.3607  0.2676\n",
       "  0.1334 -0.1417\n",
       "\n",
       "(3,1,.,.) = \n",
       "  0.0828 -0.0499\n",
       "  0.0147  0.4455\n",
       "[torch.DoubleTensor of size 3x1x2x2]\n",
       "\n"
      ]
     },
     "execution_count": 75,
     "metadata": {},
     "output_type": "execute_result"
    }
   ],
   "source": [
    "m = nn.SpatialConvolution(1,3,2,2) -- learn 3 2x2 kernels\n",
    "print(m.weight) -- initially, the weights are randomly initialized"
   ]
  },
  {
   "cell_type": "code",
   "execution_count": 76,
   "metadata": {
    "collapsed": false
   },
   "outputs": [
    {
     "data": {
      "text/plain": [
       " 0.4380\n",
       " 0.3594\n",
       " 0.4146\n",
       "[torch.DoubleTensor of size 3]\n",
       "\n"
      ]
     },
     "execution_count": 76,
     "metadata": {},
     "output_type": "execute_result"
    }
   ],
   "source": [
    "print(m.bias) -- The operation in a convolution layer is: output = convolution(input,weight) + bias"
   ]
  },
  {
   "cell_type": "markdown",
   "metadata": {},
   "source": [
    "There are also two other important fields in a learnable layer. The gradWeight and gradBias.\n",
    "The gradWeight accumulates the gradients w.r.t. each weight in the layer, and the gradBias, w.r.t. each bias in the layer.\n",
    "\n",
    "#### Training the network\n",
    "\n",
    "For the network to adjust itself, it typically does this operation (if you do Stochastic Gradient Descent):\n",
    "> weight = weight + learningRate * gradWeight [equation 1]\n",
    "\n",
    "This update over time will adjust the network weights such that the output loss is decreasing."
   ]
  },
  {
   "cell_type": "markdown",
   "metadata": {},
   "source": [
    "___\n",
    "#Full Example - Training a ConvNet on Cifar10"
   ]
  },
  {
   "cell_type": "markdown",
   "metadata": {},
   "source": [
    "__We have 5 steps left to do in training our first torch neural network__\n",
    "1. Load and normalize data\n",
    "2. Define Neural Network\n",
    "3. Define Loss function\n",
    "4. Train network on training data\n",
    "5. Test network on test data.\n",
    "\n",
    "\n",
    "##__1. Load and normalize data__\n",
    "Generally, when you have to deal with image, text, audio or video data, you can use standard functions like: [__image.load__](https://github.com/torch/image#res-imageloadfilename-depth-tensortype) or [__audio.load__](https://github.com/soumith/lua---audio#usage) to load your data into a _torch.Tensor_ or a Lua table, as convenient.\n",
    "\n",
    "We shall use the CIFAR-10 dataset, which has the classes: 'airplane', 'automobile', 'bird', 'cat', 'deer', 'dog', 'frog', 'horse', 'ship', 'truck'.  \n",
    "The images in CIFAR-10 are of size 3x32x32, i.e. 3-channel color images of 32x32 pixels in size.\n",
    "![CIFAR-10 image](https://raw.githubusercontent.com/soumith/ex/gh-pages/assets/cifar10.png)\n",
    "\n",
    "The dataset has 50,000 training images and 10,000 test images in total.\n",
    "\n",
    "\n",
    "\n",
    "Today, in the interest of time, we prepared the data before-hand into a 4D torch ByteTensor of size 10000x3x32x32 (training) and 10000x3x32x32 (testing)\n",
    "Let us load the data and inspect it."
   ]
  },
  {
   "cell_type": "code",
   "execution_count": 1,
   "metadata": {
    "collapsed": false
   },
   "outputs": [],
   "source": [
    "trainset = torch.load('/home/ehoffer/Datasets/Cifar10/cifar10-train.t7')\n",
    "testset = torch.load('/home/ehoffer/Datasets/Cifar10/cifar10-test.t7')\n",
    "\n",
    "classes = {'airplane', 'automobile', 'bird', 'cat', 'deer', 'dog', 'frog', 'horse', 'ship', 'truck'}\n",
    "\n",
    "function shuffle(data,ydata) --shuffle data function\n",
    "    local RandOrder = torch.randperm(data:size(1)):long()\n",
    "    return data:index(1,RandOrder), ydata:index(1,RandOrder)\n",
    "end\n",
    "\n",
    "\n",
    "trainset.data,trainset.label = shuffle(trainset.data,trainset.label)\n",
    "trainset.data = trainset.data:float() -- convert the data from a ByteTensor to a float Tensor.\n",
    "trainset.label = trainset.label:float():add(1)\n",
    "\n",
    "testset.data = testset.data:float()\n",
    "testset.label = testset.label:float():add(1)"
   ]
  },
  {
   "cell_type": "code",
   "execution_count": 2,
   "metadata": {
    "collapsed": false
   },
   "outputs": [
    {
     "data": {
      "text/plain": [
       "{\n",
       "  data : FloatTensor - size: 50000x3x32x32\n",
       "  label : FloatTensor - size: 50000\n",
       "}\n"
      ]
     },
     "execution_count": 2,
     "metadata": {},
     "output_type": "execute_result"
    }
   ],
   "source": [
    "print(trainset)"
   ]
  },
  {
   "cell_type": "markdown",
   "metadata": {},
   "source": [
    "For fun, let us display an image:"
   ]
  },
  {
   "cell_type": "code",
   "execution_count": 3,
   "metadata": {
    "collapsed": false
   },
   "outputs": [
    {
     "data": {
      "image/png": "[encoded data removed]",
      "text/plain": [
       "Console does not support images"
      ]
     },
     "metadata": {
      "image/png": {
       "height": 32,
       "width": 32
      }
     },
     "output_type": "display_data"
    },
    {
     "data": {
      "text/plain": [
       "dog\t\n"
      ]
     },
     "execution_count": 3,
     "metadata": {},
     "output_type": "execute_result"
    }
   ],
   "source": [
    "itorch.image(trainset.data[100]) -- display the 100-th image in dataset\n",
    "print(classes[trainset.label[100]])"
   ]
  },
  {
   "cell_type": "markdown",
   "metadata": {},
   "source": [
    "__One of the most important things you can do in conditioning your data (in general in data-science or machine learning) is to make your data to have a mean of 0.0 and standard-deviation of 1.0.__\n",
    "\n",
    "Let us do that as a final step of our data processing.\n",
    "\n",
    "To do this, we introduce you to the tensor indexing operator.\n",
    "It is shown by example:"
   ]
  },
  {
   "cell_type": "code",
   "execution_count": 4,
   "metadata": {
    "collapsed": false
   },
   "outputs": [],
   "source": [
    "redChannel = trainset.data[{ {}, {1}, {}, {}  }] -- this picks {all images, 1st channel, all vertical pixels, all horizontal pixels}"
   ]
  },
  {
   "cell_type": "code",
   "execution_count": 5,
   "metadata": {
    "collapsed": false
   },
   "outputs": [
    {
     "data": {
      "text/plain": [
       "\n",
       " 50000\n",
       "     1\n",
       "    32\n",
       "    32\n",
       "[torch.LongStorage of size 4]\n",
       "\n"
      ]
     },
     "execution_count": 5,
     "metadata": {},
     "output_type": "execute_result"
    }
   ],
   "source": [
    "print(#redChannel)"
   ]
  },
  {
   "cell_type": "markdown",
   "metadata": {},
   "source": [
    "Moving back to mean-subtraction and standard-deviation based scaling, doing this operation is simple, using the indexing operator that we learnt above:"
   ]
  },
  {
   "cell_type": "code",
   "execution_count": 6,
   "metadata": {
    "collapsed": false
   },
   "outputs": [
    {
     "data": {
      "text/plain": [
       "Channel 1, Mean: 125.30691804687\t\n"
      ]
     },
     "execution_count": 6,
     "metadata": {},
     "output_type": "execute_result"
    },
    {
     "data": {
      "text/plain": [
       "Channel 1, Standard Deviation: 62.993219892909\t\n"
      ]
     },
     "execution_count": 6,
     "metadata": {},
     "output_type": "execute_result"
    },
    {
     "data": {
      "text/plain": [
       "Channel 2, Mean: 122.95039414062\t\n"
      ]
     },
     "execution_count": 6,
     "metadata": {},
     "output_type": "execute_result"
    },
    {
     "data": {
      "text/plain": [
       "Channel 2, Standard Deviation: 62.088708246721\t\n"
      ]
     },
     "execution_count": 6,
     "metadata": {},
     "output_type": "execute_result"
    },
    {
     "data": {
      "text/plain": [
       "Channel 3, Mean: 113.86538318359\t\n"
      ]
     },
     "execution_count": 6,
     "metadata": {},
     "output_type": "execute_result"
    },
    {
     "data": {
      "text/plain": [
       "Channel 3, Standard Deviation: 66.704900292069\t\n"
      ]
     },
     "execution_count": 6,
     "metadata": {},
     "output_type": "execute_result"
    }
   ],
   "source": [
    "mean = {} -- store the mean, to normalize the test set in the future\n",
    "stdv  = {} -- store the standard-deviation for the future\n",
    "for i=1,3 do -- over each image channel\n",
    "    mean[i] = trainset.data[{ {}, {i}, {}, {}  }]:mean() -- mean estimation\n",
    "    print('Channel ' .. i .. ', Mean: ' .. mean[i])\n",
    "    trainset.data[{ {}, {i}, {}, {}  }]:add(-mean[i]) -- mean subtraction\n",
    "    \n",
    "    stdv[i] = trainset.data[{ {}, {i}, {}, {}  }]:std() -- std estimation\n",
    "    print('Channel ' .. i .. ', Standard Deviation: ' .. stdv[i])\n",
    "    trainset.data[{ {}, {i}, {}, {}  }]:div(stdv[i]) -- std scaling\n",
    "end\n",
    "\n",
    "-- Normalize test set using same values\n",
    "\n",
    "for i=1,3 do -- over each image channel\n",
    "    testset.data[{ {}, {i}, {}, {}  }]:add(-mean[i]) -- mean subtraction    \n",
    "    testset.data[{ {}, {i}, {}, {}  }]:div(stdv[i]) -- std scaling\n",
    "end"
   ]
  },
  {
   "cell_type": "markdown",
   "metadata": {},
   "source": [
    "As you notice, our data is now normalized and ready to be used.\n",
    "\n",
    "##__ 2. Time to define our neural network__\n"
   ]
  },
  {
   "cell_type": "code",
   "execution_count": 77,
   "metadata": {
    "collapsed": false
   },
   "outputs": [],
   "source": [
    "require 'nn'\n",
    "net = nn.Sequential()\n",
    "net:add(nn.SpatialConvolution(3, 32, 5, 5)) -- 1 input image channel, 64 output channels, 5x5 convolution kernel\n",
    "net:add(nn.SpatialMaxPooling(2,2,2,2))      -- A max-pooling operation that looks at 2x2 windows and finds the max.\n",
    "net:add(nn.ReLU())                          -- ReLU activation function\n",
    "net:add(nn.SpatialBatchNormalization(0))    --Batch normalization will provide quicker convergence\n",
    "net:add(nn.SpatialConvolution(32, 64, 3, 3))\n",
    "net:add(nn.SpatialMaxPooling(2,2,2,2))\n",
    "net:add(nn.ReLU())\n",
    "net:add(nn.SpatialBatchNormalization(0))\n",
    "net:add(nn.SpatialConvolution(64, 32, 3, 3))\n",
    "net:add(nn.View(32*4*4):setNumInputDims(3)) -- reshapes from a 3D tensor of 32x4x4 into 1D tensor of 32*4*4\n",
    "net:add(nn.Linear(32*4*4, 128))             -- fully connected layer (matrix multiplication between input and weights)\n",
    "net:add(nn.ReLU())\n",
    "net:add(nn.Dropout(0.5))                    --Dropout layer with p=0.5\n",
    "net:add(nn.Linear(128, #classes))           -- 10 is the number of outputs of the network (in this case, 10 digits)\n",
    "net:add(nn.LogSoftMax())                    -- converts the output to a log-probability. Useful for classification problems"
   ]
  },
  {
   "cell_type": "markdown",
   "metadata": {},
   "source": [
    "#####Testing the configured net using typical input"
   ]
  },
  {
   "cell_type": "code",
   "execution_count": 78,
   "metadata": {
    "collapsed": false
   },
   "outputs": [
    {
     "data": {
      "text/plain": [
       "-2.0770 -2.3371 -2.8197 -2.1547 -2.2253 -2.3681 -2.1080 -2.4093 -2.3629 -2.3505\n",
       "[torch.FloatTensor of size 1x10]\n",
       "\n"
      ]
     },
     "execution_count": 78,
     "metadata": {},
     "output_type": "execute_result"
    }
   ],
   "source": [
    "net:float() --Configures the network to recieve float tensors\n",
    "net:training() --Activates dropout\n",
    "local test_image = trainset.data[1]:view(1,3,32,32)\n",
    "print(net:forward(test_image))"
   ]
  },
  {
   "cell_type": "markdown",
   "metadata": {},
   "source": [
    "##__3. Let us define the Loss function__\n",
    "\n",
    "Let us use a Log-likelihood classification loss. It is well suited for most classification problems."
   ]
  },
  {
   "cell_type": "code",
   "execution_count": 71,
   "metadata": {
    "collapsed": false
   },
   "outputs": [],
   "source": [
    "criterion = nn.ClassNLLCriterion():float()"
   ]
  },
  {
   "cell_type": "markdown",
   "metadata": {},
   "source": [
    "##__4. Train the neural network__\n",
    "\n",
    "This is when things start to get interesting.\n",
    "\n",
    "Training is done by first extracting all weights and their gradients - these will be updated using the optimization procedure."
   ]
  },
  {
   "cell_type": "code",
   "execution_count": 72,
   "metadata": {
    "collapsed": false
   },
   "outputs": [],
   "source": [
    "w, grad = net:getParameters()  --Gets the weights and gradients of the network\n",
    "\n",
    "require 'optim' --optimization library\n",
    "\n",
    "state = {\n",
    "   learningRate = 0.1,\n",
    "   momentum = 0.9\n",
    "} \n",
    "\n",
    "batchSize = 16"
   ]
  },
  {
   "cell_type": "markdown",
   "metadata": {},
   "source": [
    "We can now see an example for one training iteration"
   ]
  },
  {
   "cell_type": "code",
   "execution_count": 73,
   "metadata": {
    "collapsed": false
   },
   "outputs": [
    {
     "data": {
      "text/plain": [
       "Loss = \t2.4531877189875\t\n",
       "Time = \t0.10539197921753\t\t\n"
      ]
     },
     "execution_count": 73,
     "metadata": {},
     "output_type": "execute_result"
    }
   ],
   "source": [
    "x, yt = trainset.data:narrow(1,1,batchSize), trainset.label:narrow(1,1,batchSize) --Get first batch\n",
    "\n",
    "    function eval()            --evaluation function\n",
    "        net:zeroGradParameters()\n",
    "        y = net:forward(x)\n",
    "        loss = criterion:forward(y,yt)\n",
    "        dE_dy = criterion:backward(y,yt)\n",
    "        net:backward(x,dE_dy)\n",
    "        return loss,grad\n",
    "    end\n",
    "\n",
    "t = torch.tic()\n",
    "\n",
    "optim.sgd(eval,w,state) --sgd can be replaced with 'adagrad','adadelta','rmsprop','cg','nag'...\n",
    "\n",
    "t = torch.tic()-t\n",
    "print('Loss = ',loss)\n",
    "print('Time = ',t,'')"
   ]
  },
  {
   "cell_type": "markdown",
   "metadata": {},
   "source": [
    "This is a bit slow, so...\n",
    "###Time to go CUDA"
   ]
  },
  {
   "cell_type": "code",
   "execution_count": 74,
   "metadata": {
    "collapsed": false
   },
   "outputs": [
    {
     "data": {
      "text/plain": [
       "Loss = \t2.095338344574\t\n",
       "Time = \t0.0096290111541748\tms\t\n"
      ]
     },
     "execution_count": 74,
     "metadata": {},
     "output_type": "execute_result"
    }
   ],
   "source": [
    "require 'cunn' --CUDA nn library\n",
    "net:cuda() --Turns network to work on gpu\n",
    "criterion:cuda()\n",
    "w, grad = net:getParameters()\n",
    "state = { learningRate = 0.1,momentum = 0.9} \n",
    "\n",
    "x, yt = trainset.data:narrow(1,1,batchSize), trainset.label:narrow(1,1,batchSize) --Get first batch\n",
    "x = x:cuda()\n",
    "yt = yt:cuda()\n",
    "\n",
    "    function eval()            --evaluation function\n",
    "        net:zeroGradParameters()\n",
    "        y = net:forward(x)\n",
    "        loss = criterion:forward(y,yt)\n",
    "        dE_dy = criterion:backward(y,yt)\n",
    "        net:backward(x,dE_dy)\n",
    "        return loss,grad\n",
    "    end\n",
    "\n",
    "t = torch.tic()\n",
    "\n",
    "optim.sgd(eval,w,state) --sgd can be replaced with 'adagrad','adadelta','rmsprop','cg','nag'...\n",
    "\n",
    "t = torch.tic()-t\n",
    "print('Loss = ',loss)\n",
    "print('Time = ',t,'ms')"
   ]
  },
  {
   "cell_type": "markdown",
   "metadata": {},
   "source": [
    "###Using alternative implementation - CUDNN\n",
    "By using the torch cudnn package, we can speed up our computations.\n",
    "\n",
    "Cuda-convnet2 kernels are also available (ccn2). "
   ]
  },
  {
   "cell_type": "code",
   "execution_count": 15,
   "metadata": {
    "collapsed": false
   },
   "outputs": [],
   "source": [
    "require 'cudnn'\n",
    "net = nn.Sequential()\n",
    "net:add(cudnn.SpatialConvolution(3, 32, 5, 5)) -- 1 input image channel, 64 output channels, 5x5 convolution kernel\n",
    "net:add(cudnn.SpatialMaxPooling(2,2,2,2))      -- A max-pooling operation that looks at 2x2 windows and finds the max.\n",
    "net:add(cudnn.ReLU(true))                          -- ReLU activation function\n",
    "net:add(nn.SpatialBatchNormalization(0))    --Batch normalization will provide quicker convergence\n",
    "net:add(cudnn.SpatialConvolution(32, 64, 3, 3))\n",
    "net:add(cudnn.SpatialMaxPooling(2,2,2,2))\n",
    "net:add(cudnn.ReLU(true))\n",
    "net:add(nn.SpatialBatchNormalization(0))\n",
    "net:add(cudnn.SpatialConvolution(64, 32, 3, 3))\n",
    "net:add(nn.View(32*4*4):setNumInputDims(3))  -- reshapes from a 3D tensor of 32x4x4 into 1D tensor of 32*4*4\n",
    "net:add(nn.Linear(32*4*4, 128))             -- fully connected layer (matrix multiplication between input and weights)\n",
    "net:add(cudnn.ReLU(true))\n",
    "net:add(nn.Dropout(0.5))                    --Dropout layer with p=0.5\n",
    "net:add(nn.Linear(128, #classes))            -- 10 is the number of outputs of the network (in this case, 10 digits)\n",
    "net:add(nn.LogSoftMax())                     -- converts the output to a log-probability. Useful for classification problems"
   ]
  },
  {
   "cell_type": "markdown",
   "metadata": {},
   "source": [
    "##Training the network\n",
    "We can now train the network efficiently. We'll do 5 epochs over all training data, shuffling the samples every epoch."
   ]
  },
  {
   "cell_type": "code",
   "execution_count": 16,
   "metadata": {
    "collapsed": false
   },
   "outputs": [
    {
     "data": {
      "text/plain": [
       "Epoch = \t1\t Loss = \t1.4818352460861\t\n"
      ]
     },
     "execution_count": 16,
     "metadata": {},
     "output_type": "execute_result"
    },
    {
     "data": {
      "text/plain": [
       "Epoch = \t2\t Loss = \t1.156501531601\t\n"
      ]
     },
     "execution_count": 16,
     "metadata": {},
     "output_type": "execute_result"
    },
    {
     "data": {
      "text/plain": [
       "Epoch = \t3\t Loss = \t1.048565030098\t\n"
      ]
     },
     "execution_count": 16,
     "metadata": {},
     "output_type": "execute_result"
    },
    {
     "data": {
      "text/plain": [
       "Epoch = \t4\t Loss = \t0.97097063064575\t\n"
      ]
     },
     "execution_count": 16,
     "metadata": {},
     "output_type": "execute_result"
    },
    {
     "data": {
      "text/plain": [
       "Epoch = \t5\t Loss = \t0.91722929477692\t\n"
      ]
     },
     "execution_count": 16,
     "metadata": {},
     "output_type": "execute_result"
    },
    {
     "data": {
      "text/html": [
       "<script type=\"text/javascript\">\n",
       "$(function() {\n",
       "    if (typeof (window._bokeh_onload_callbacks) === \"undefined\"){\n",
       "  window._bokeh_onload_callbacks = [];\n",
       "    }\n",
       "    function load_lib(url, callback){\n",
       "  window._bokeh_onload_callbacks.push(callback);\n",
       "  if (window._bokeh_is_loading){\n",
       "      console.log(\"Bokeh: BokehJS is being loaded, scheduling callback at\", new Date());\n",
       "      return null;\n",
       "  }\n",
       "  console.log(\"Bokeh: BokehJS not loaded, scheduling load and callback at\", new Date());\n",
       "  window._bokeh_is_loading = true;\n",
       "  var s = document.createElement('script');\n",
       "  s.src = url;\n",
       "  s.async = true;\n",
       "  s.onreadystatechange = s.onload = function(){\n",
       "      Bokeh.embed.inject_css(\"http://cdn.pydata.org/bokeh-0.7.0.min.css\");\n",
       "      window._bokeh_onload_callbacks.forEach(function(callback){callback()});\n",
       "  };\n",
       "  s.onerror = function(){\n",
       "      console.warn(\"failed to load library \" + url);\n",
       "  };\n",
       "  document.getElementsByTagName(\"head\")[0].appendChild(s);\n",
       "    }\n",
       "\n",
       "    bokehjs_url = \"http://cdn.pydata.org/bokeh-0.7.0.min.js\"\n",
       "\n",
       "    var elt = document.getElementById(\"bb1614d0-945b-49bc-c939-478134e839e5\");\n",
       "    if(elt==null) {\n",
       "  console.log(\"Bokeh: ERROR: autoload.js configured with elementid 'bb1614d0-945b-49bc-c939-478134e839e5'\"\n",
       "        + \"but no matching script tag was found. \")\n",
       "  return false;\n",
       "    }\n",
       "\n",
       "    if(typeof(Bokeh) !== \"undefined\") {\n",
       "  console.log(\"Bokeh: BokehJS loaded, going straight to plotting\");\n",
       "  var modelid = \"4323d333-fe4b-47ae-c720-624cf01f3eae\";\n",
       "  var modeltype = \"Plot\";\n",
       "  var all_models = [{\"id\":\"1aa638fb-0aeb-4e45-cebe-45eea8d8a6e4\",\"type\":\"ColumnDataSource\",\"attributes\":{\"data\":{\"y\":[1.4818352460861,1.156501531601,1.048565030098,0.97097063064575,0.91722929477692],\"x\":[1,2,3,4,5]},\"column_names\":[\"y\",\"x\"],\"cont_ranges\":{},\"discrete_ranges\":{},\"selected\":[],\"id\":\"1aa638fb-0aeb-4e45-cebe-45eea8d8a6e4\",\"doc\":null,\"tags\":[]}},{\"id\":\"a5b6de1d-d2b3-4e39-ce5e-d76a30234d47\",\"type\":\"Line\",\"attributes\":{\"fill_alpha\":{\"units\":\"data\",\"value\":0.2},\"line_alpha\":{\"units\":\"data\",\"value\":1},\"doc\":null,\"size\":{\"units\":\"screen\",\"value\":10},\"fill_color\":{\"value\":\"blue\"},\"line_color\":{\"value\":\"blue\"},\"x\":{\"units\":\"data\",\"field\":\"x\"},\"id\":\"a5b6de1d-d2b3-4e39-ce5e-d76a30234d47\",\"y\":{\"units\":\"data\",\"field\":\"y\"},\"tags\":[]}},{\"id\":\"d8769ff3-60c1-4be2-cbef-3376017c54e6\",\"type\":\"Line\",\"attributes\":{\"fill_alpha\":{\"units\":\"data\",\"value\":0.2},\"line_alpha\":{\"units\":\"data\",\"value\":1},\"doc\":null,\"size\":{\"units\":\"screen\",\"value\":10},\"fill_color\":{\"value\":\"blue\"},\"line_color\":{\"value\":\"blue\"},\"x\":{\"units\":\"data\",\"field\":\"x\"},\"id\":\"d8769ff3-60c1-4be2-cbef-3376017c54e6\",\"y\":{\"units\":\"data\",\"field\":\"y\"},\"tags\":[]}},{\"id\":\"5cff97a7-73c3-432a-c325-b8d3f3c8984a\",\"type\":\"GlyphRenderer\",\"attributes\":{\"name\":null,\"nonselection_glyph\":{\"type\":\"Line\",\"id\":\"d8769ff3-60c1-4be2-cbef-3376017c54e6\"},\"doc\":null,\"server_data_source\":null,\"data_source\":{\"type\":\"ColumnDataSource\",\"id\":\"1aa638fb-0aeb-4e45-cebe-45eea8d8a6e4\"},\"glyph\":{\"type\":\"Line\",\"id\":\"a5b6de1d-d2b3-4e39-ce5e-d76a30234d47\"},\"selection_glyph\":null,\"id\":\"5cff97a7-73c3-432a-c325-b8d3f3c8984a\",\"tags\":[]}},{\"id\":\"8fece7b3-34f4-4a7d-ca00-df339eec392a\",\"type\":\"DataRange1d\",\"attributes\":{\"sources\":[{\"columns\":[\"x\"],\"source\":{\"type\":\"ColumnDataSource\",\"id\":\"1aa638fb-0aeb-4e45-cebe-45eea8d8a6e4\"}}],\"id\":\"8fece7b3-34f4-4a7d-ca00-df339eec392a\",\"tags\":[],\"doc\":null}},{\"id\":\"51b3bdeb-9054-46ac-c68b-ae4a6f851315\",\"type\":\"DataRange1d\",\"attributes\":{\"sources\":[{\"columns\":[\"y\"],\"source\":{\"type\":\"ColumnDataSource\",\"id\":\"1aa638fb-0aeb-4e45-cebe-45eea8d8a6e4\"}}],\"id\":\"51b3bdeb-9054-46ac-c68b-ae4a6f851315\",\"tags\":[],\"doc\":null}},{\"id\":\"4e5f4750-9a88-4fca-cf9f-cd4ce3b7a203\",\"type\":\"ToolEvents\",\"attributes\":{\"tags\":[],\"id\":\"4e5f4750-9a88-4fca-cf9f-cd4ce3b7a203\",\"geometries\":[],\"doc\":null}},{\"id\":\"49fd7e0a-99e4-42c9-c230-569e198fd904\",\"type\":\"BasicTickFormatter\",\"attributes\":{\"id\":\"49fd7e0a-99e4-42c9-c230-569e198fd904\",\"tags\":[],\"doc\":null}},{\"id\":\"71c762a4-7339-4c46-cc34-a9cde1830045\",\"type\":\"BasicTicker\",\"attributes\":{\"num_minor_ticks\":5,\"id\":\"71c762a4-7339-4c46-cc34-a9cde1830045\",\"tags\":[],\"doc\":null}},{\"id\":\"c743e878-2950-4f7e-cfc8-7835840a558a\",\"type\":\"LinearAxis\",\"attributes\":{\"formatter\":{\"type\":\"BasicTickFormatter\",\"id\":\"49fd7e0a-99e4-42c9-c230-569e198fd904\"},\"ticker\":{\"type\":\"BasicTicker\",\"id\":\"71c762a4-7339-4c46-cc34-a9cde1830045\"},\"plot\":{\"id\":\"4323d333-fe4b-47ae-c720-624cf01f3eae\",\"type\":\"Plot\",\"subtype\":\"Figure\"},\"axis_label\":\"Epoch\",\"id\":\"c743e878-2950-4f7e-cfc8-7835840a558a\",\"doc\":null,\"tags\":[]}},{\"id\":\"80916607-4ec3-4111-c1ce-45221464354c\",\"type\":\"Grid\",\"attributes\":{\"dimension\":0,\"plot\":{\"id\":\"4323d333-fe4b-47ae-c720-624cf01f3eae\",\"type\":\"Plot\",\"subtype\":\"Figure\"},\"ticker\":{\"type\":\"BasicTicker\",\"id\":\"71c762a4-7339-4c46-cc34-a9cde1830045\"},\"id\":\"80916607-4ec3-4111-c1ce-45221464354c\",\"doc\":null,\"tags\":[]}},{\"id\":\"38bd9b0b-8d2c-432c-c33c-6353b5ddd497\",\"type\":\"BasicTickFormatter\",\"attributes\":{\"id\":\"38bd9b0b-8d2c-432c-c33c-6353b5ddd497\",\"tags\":[],\"doc\":null}},{\"id\":\"38e71985-908a-4f41-cfdb-a4f2127a8589\",\"type\":\"BasicTicker\",\"attributes\":{\"num_minor_ticks\":5,\"id\":\"38e71985-908a-4f41-cfdb-a4f2127a8589\",\"tags\":[],\"doc\":null}},{\"id\":\"fb1c0a8c-3974-4ba7-cb54-d027d9fce98f\",\"type\":\"LinearAxis\",\"attributes\":{\"formatter\":{\"type\":\"BasicTickFormatter\",\"id\":\"38bd9b0b-8d2c-432c-c33c-6353b5ddd497\"},\"ticker\":{\"type\":\"BasicTicker\",\"id\":\"38e71985-908a-4f41-cfdb-a4f2127a8589\"},\"plot\":{\"id\":\"4323d333-fe4b-47ae-c720-624cf01f3eae\",\"type\":\"Plot\",\"subtype\":\"Figure\"},\"axis_label\":\"NLL Loss\",\"id\":\"fb1c0a8c-3974-4ba7-cb54-d027d9fce98f\",\"doc\":null,\"tags\":[]}},{\"id\":\"3d45818a-b5bc-48e0-c871-129881dfe385\",\"type\":\"Grid\",\"attributes\":{\"dimension\":1,\"plot\":{\"id\":\"4323d333-fe4b-47ae-c720-624cf01f3eae\",\"type\":\"Plot\",\"subtype\":\"Figure\"},\"ticker\":{\"type\":\"BasicTicker\",\"id\":\"38e71985-908a-4f41-cfdb-a4f2127a8589\"},\"id\":\"3d45818a-b5bc-48e0-c871-129881dfe385\",\"doc\":null,\"tags\":[]}},{\"id\":\"bb20367c-45be-4187-c160-91a65e1b87ee\",\"type\":\"PanTool\",\"attributes\":{\"plot\":{\"id\":\"4323d333-fe4b-47ae-c720-624cf01f3eae\",\"type\":\"Plot\",\"subtype\":\"Figure\"},\"dimensions\":[\"width\",\"height\"],\"id\":\"bb20367c-45be-4187-c160-91a65e1b87ee\",\"doc\":null,\"tags\":[]}},{\"id\":\"75deb4e1-de4b-4277-c2b6-03402a290f7d\",\"type\":\"WheelZoomTool\",\"attributes\":{\"plot\":{\"id\":\"4323d333-fe4b-47ae-c720-624cf01f3eae\",\"type\":\"Plot\",\"subtype\":\"Figure\"},\"dimensions\":[\"width\",\"height\"],\"id\":\"75deb4e1-de4b-4277-c2b6-03402a290f7d\",\"doc\":null,\"tags\":[]}},{\"id\":\"c77fc70e-c027-4bdd-cb74-9efe64b30c3f\",\"type\":\"BoxZoomTool\",\"attributes\":{\"plot\":{\"id\":\"4323d333-fe4b-47ae-c720-624cf01f3eae\",\"type\":\"Plot\",\"subtype\":\"Figure\"},\"id\":\"c77fc70e-c027-4bdd-cb74-9efe64b30c3f\",\"tags\":[],\"doc\":null}},{\"id\":\"6761a806-b16f-4d65-cdfb-ac8a32d052d3\",\"type\":\"PreviewSaveTool\",\"attributes\":{\"plot\":{\"id\":\"4323d333-fe4b-47ae-c720-624cf01f3eae\",\"type\":\"Plot\",\"subtype\":\"Figure\"},\"id\":\"6761a806-b16f-4d65-cdfb-ac8a32d052d3\",\"tags\":[],\"doc\":null}},{\"id\":\"94195310-aa19-4ca4-ccff-ddd71d30ae2e\",\"type\":\"ResizeTool\",\"attributes\":{\"plot\":{\"id\":\"4323d333-fe4b-47ae-c720-624cf01f3eae\",\"type\":\"Plot\",\"subtype\":\"Figure\"},\"id\":\"94195310-aa19-4ca4-ccff-ddd71d30ae2e\",\"tags\":[],\"doc\":null}},{\"id\":\"1a51a132-5544-45d0-c517-c7413397c262\",\"type\":\"ResetTool\",\"attributes\":{\"plot\":{\"id\":\"4323d333-fe4b-47ae-c720-624cf01f3eae\",\"type\":\"Plot\",\"subtype\":\"Figure\"},\"id\":\"1a51a132-5544-45d0-c517-c7413397c262\",\"tags\":[],\"doc\":null}},{\"id\":\"4323d333-fe4b-47ae-c720-624cf01f3eae\",\"type\":\"Plot\",\"attributes\":{\"x_range\":{\"type\":\"DataRange1d\",\"id\":\"8fece7b3-34f4-4a7d-ca00-df339eec392a\"},\"tool_events\":{\"type\":\"ToolEvents\",\"id\":\"4e5f4750-9a88-4fca-cf9f-cd4ce3b7a203\"},\"below\":[{\"type\":\"LinearAxis\",\"id\":\"c743e878-2950-4f7e-cfc8-7835840a558a\"}],\"renderers\":[{\"type\":\"GlyphRenderer\",\"id\":\"5cff97a7-73c3-432a-c325-b8d3f3c8984a\"},{\"type\":\"LinearAxis\",\"id\":\"c743e878-2950-4f7e-cfc8-7835840a558a\"},{\"type\":\"Grid\",\"id\":\"80916607-4ec3-4111-c1ce-45221464354c\"},{\"type\":\"LinearAxis\",\"id\":\"fb1c0a8c-3974-4ba7-cb54-d027d9fce98f\"},{\"type\":\"Grid\",\"id\":\"3d45818a-b5bc-48e0-c871-129881dfe385\"}],\"above\":[],\"tools\":[{\"type\":\"PanTool\",\"id\":\"bb20367c-45be-4187-c160-91a65e1b87ee\"},{\"type\":\"WheelZoomTool\",\"id\":\"75deb4e1-de4b-4277-c2b6-03402a290f7d\"},{\"type\":\"BoxZoomTool\",\"id\":\"c77fc70e-c027-4bdd-cb74-9efe64b30c3f\"},{\"type\":\"PreviewSaveTool\",\"id\":\"6761a806-b16f-4d65-cdfb-ac8a32d052d3\"},{\"type\":\"ResizeTool\",\"id\":\"94195310-aa19-4ca4-ccff-ddd71d30ae2e\"},{\"type\":\"ResetTool\",\"id\":\"1a51a132-5544-45d0-c517-c7413397c262\"}],\"doc\":null,\"right\":[],\"title\":\"Loss over time\",\"extra_x_ranges\":{},\"left\":[{\"type\":\"LinearAxis\",\"id\":\"fb1c0a8c-3974-4ba7-cb54-d027d9fce98f\"}],\"y_range\":{\"type\":\"DataRange1d\",\"id\":\"51b3bdeb-9054-46ac-c68b-ae4a6f851315\"},\"id\":\"4323d333-fe4b-47ae-c720-624cf01f3eae\",\"extra_y_ranges\":{},\"tags\":[]}}];\n",
       "  Bokeh.load_models(all_models);\n",
       "  var model = Bokeh.Collections(modeltype).get(modelid);\n",
       "  $(\"#bb1614d0-945b-49bc-c939-478134e839e5\").html(''); // clear any previous plot in window_id\n",
       "  var view = new model.default_view({model: model, el: \"#bb1614d0-945b-49bc-c939-478134e839e5\"});\n",
       "    } else {\n",
       "  load_lib(bokehjs_url, function() {\n",
       "      console.log(\"Bokeh: BokehJS plotting callback run at\", new Date())\n",
       "      var modelid = \"4323d333-fe4b-47ae-c720-624cf01f3eae\";\n",
       "      var modeltype = \"Plot\";\n",
       "      var all_models = [{\"id\":\"1aa638fb-0aeb-4e45-cebe-45eea8d8a6e4\",\"type\":\"ColumnDataSource\",\"attributes\":{\"data\":{\"y\":[1.4818352460861,1.156501531601,1.048565030098,0.97097063064575,0.91722929477692],\"x\":[1,2,3,4,5]},\"column_names\":[\"y\",\"x\"],\"cont_ranges\":{},\"discrete_ranges\":{},\"selected\":[],\"id\":\"1aa638fb-0aeb-4e45-cebe-45eea8d8a6e4\",\"doc\":null,\"tags\":[]}},{\"id\":\"a5b6de1d-d2b3-4e39-ce5e-d76a30234d47\",\"type\":\"Line\",\"attributes\":{\"fill_alpha\":{\"units\":\"data\",\"value\":0.2},\"line_alpha\":{\"units\":\"data\",\"value\":1},\"doc\":null,\"size\":{\"units\":\"screen\",\"value\":10},\"fill_color\":{\"value\":\"blue\"},\"line_color\":{\"value\":\"blue\"},\"x\":{\"units\":\"data\",\"field\":\"x\"},\"id\":\"a5b6de1d-d2b3-4e39-ce5e-d76a30234d47\",\"y\":{\"units\":\"data\",\"field\":\"y\"},\"tags\":[]}},{\"id\":\"d8769ff3-60c1-4be2-cbef-3376017c54e6\",\"type\":\"Line\",\"attributes\":{\"fill_alpha\":{\"units\":\"data\",\"value\":0.2},\"line_alpha\":{\"units\":\"data\",\"value\":1},\"doc\":null,\"size\":{\"units\":\"screen\",\"value\":10},\"fill_color\":{\"value\":\"blue\"},\"line_color\":{\"value\":\"blue\"},\"x\":{\"units\":\"data\",\"field\":\"x\"},\"id\":\"d8769ff3-60c1-4be2-cbef-3376017c54e6\",\"y\":{\"units\":\"data\",\"field\":\"y\"},\"tags\":[]}},{\"id\":\"5cff97a7-73c3-432a-c325-b8d3f3c8984a\",\"type\":\"GlyphRenderer\",\"attributes\":{\"name\":null,\"nonselection_glyph\":{\"type\":\"Line\",\"id\":\"d8769ff3-60c1-4be2-cbef-3376017c54e6\"},\"doc\":null,\"server_data_source\":null,\"data_source\":{\"type\":\"ColumnDataSource\",\"id\":\"1aa638fb-0aeb-4e45-cebe-45eea8d8a6e4\"},\"glyph\":{\"type\":\"Line\",\"id\":\"a5b6de1d-d2b3-4e39-ce5e-d76a30234d47\"},\"selection_glyph\":null,\"id\":\"5cff97a7-73c3-432a-c325-b8d3f3c8984a\",\"tags\":[]}},{\"id\":\"8fece7b3-34f4-4a7d-ca00-df339eec392a\",\"type\":\"DataRange1d\",\"attributes\":{\"sources\":[{\"columns\":[\"x\"],\"source\":{\"type\":\"ColumnDataSource\",\"id\":\"1aa638fb-0aeb-4e45-cebe-45eea8d8a6e4\"}}],\"id\":\"8fece7b3-34f4-4a7d-ca00-df339eec392a\",\"tags\":[],\"doc\":null}},{\"id\":\"51b3bdeb-9054-46ac-c68b-ae4a6f851315\",\"type\":\"DataRange1d\",\"attributes\":{\"sources\":[{\"columns\":[\"y\"],\"source\":{\"type\":\"ColumnDataSource\",\"id\":\"1aa638fb-0aeb-4e45-cebe-45eea8d8a6e4\"}}],\"id\":\"51b3bdeb-9054-46ac-c68b-ae4a6f851315\",\"tags\":[],\"doc\":null}},{\"id\":\"4e5f4750-9a88-4fca-cf9f-cd4ce3b7a203\",\"type\":\"ToolEvents\",\"attributes\":{\"tags\":[],\"id\":\"4e5f4750-9a88-4fca-cf9f-cd4ce3b7a203\",\"geometries\":[],\"doc\":null}},{\"id\":\"49fd7e0a-99e4-42c9-c230-569e198fd904\",\"type\":\"BasicTickFormatter\",\"attributes\":{\"id\":\"49fd7e0a-99e4-42c9-c230-569e198fd904\",\"tags\":[],\"doc\":null}},{\"id\":\"71c762a4-7339-4c46-cc34-a9cde1830045\",\"type\":\"BasicTicker\",\"attributes\":{\"num_minor_ticks\":5,\"id\":\"71c762a4-7339-4c46-cc34-a9cde1830045\",\"tags\":[],\"doc\":null}},{\"id\":\"c743e878-2950-4f7e-cfc8-7835840a558a\",\"type\":\"LinearAxis\",\"attributes\":{\"formatter\":{\"type\":\"BasicTickFormatter\",\"id\":\"49fd7e0a-99e4-42c9-c230-569e198fd904\"},\"ticker\":{\"type\":\"BasicTicker\",\"id\":\"71c762a4-7339-4c46-cc34-a9cde1830045\"},\"plot\":{\"id\":\"4323d333-fe4b-47ae-c720-624cf01f3eae\",\"type\":\"Plot\",\"subtype\":\"Figure\"},\"axis_label\":\"Epoch\",\"id\":\"c743e878-2950-4f7e-cfc8-7835840a558a\",\"doc\":null,\"tags\":[]}},{\"id\":\"80916607-4ec3-4111-c1ce-45221464354c\",\"type\":\"Grid\",\"attributes\":{\"dimension\":0,\"plot\":{\"id\":\"4323d333-fe4b-47ae-c720-624cf01f3eae\",\"type\":\"Plot\",\"subtype\":\"Figure\"},\"ticker\":{\"type\":\"BasicTicker\",\"id\":\"71c762a4-7339-4c46-cc34-a9cde1830045\"},\"id\":\"80916607-4ec3-4111-c1ce-45221464354c\",\"doc\":null,\"tags\":[]}},{\"id\":\"38bd9b0b-8d2c-432c-c33c-6353b5ddd497\",\"type\":\"BasicTickFormatter\",\"attributes\":{\"id\":\"38bd9b0b-8d2c-432c-c33c-6353b5ddd497\",\"tags\":[],\"doc\":null}},{\"id\":\"38e71985-908a-4f41-cfdb-a4f2127a8589\",\"type\":\"BasicTicker\",\"attributes\":{\"num_minor_ticks\":5,\"id\":\"38e71985-908a-4f41-cfdb-a4f2127a8589\",\"tags\":[],\"doc\":null}},{\"id\":\"fb1c0a8c-3974-4ba7-cb54-d027d9fce98f\",\"type\":\"LinearAxis\",\"attributes\":{\"formatter\":{\"type\":\"BasicTickFormatter\",\"id\":\"38bd9b0b-8d2c-432c-c33c-6353b5ddd497\"},\"ticker\":{\"type\":\"BasicTicker\",\"id\":\"38e71985-908a-4f41-cfdb-a4f2127a8589\"},\"plot\":{\"id\":\"4323d333-fe4b-47ae-c720-624cf01f3eae\",\"type\":\"Plot\",\"subtype\":\"Figure\"},\"axis_label\":\"NLL Loss\",\"id\":\"fb1c0a8c-3974-4ba7-cb54-d027d9fce98f\",\"doc\":null,\"tags\":[]}},{\"id\":\"3d45818a-b5bc-48e0-c871-129881dfe385\",\"type\":\"Grid\",\"attributes\":{\"dimension\":1,\"plot\":{\"id\":\"4323d333-fe4b-47ae-c720-624cf01f3eae\",\"type\":\"Plot\",\"subtype\":\"Figure\"},\"ticker\":{\"type\":\"BasicTicker\",\"id\":\"38e71985-908a-4f41-cfdb-a4f2127a8589\"},\"id\":\"3d45818a-b5bc-48e0-c871-129881dfe385\",\"doc\":null,\"tags\":[]}},{\"id\":\"bb20367c-45be-4187-c160-91a65e1b87ee\",\"type\":\"PanTool\",\"attributes\":{\"plot\":{\"id\":\"4323d333-fe4b-47ae-c720-624cf01f3eae\",\"type\":\"Plot\",\"subtype\":\"Figure\"},\"dimensions\":[\"width\",\"height\"],\"id\":\"bb20367c-45be-4187-c160-91a65e1b87ee\",\"doc\":null,\"tags\":[]}},{\"id\":\"75deb4e1-de4b-4277-c2b6-03402a290f7d\",\"type\":\"WheelZoomTool\",\"attributes\":{\"plot\":{\"id\":\"4323d333-fe4b-47ae-c720-624cf01f3eae\",\"type\":\"Plot\",\"subtype\":\"Figure\"},\"dimensions\":[\"width\",\"height\"],\"id\":\"75deb4e1-de4b-4277-c2b6-03402a290f7d\",\"doc\":null,\"tags\":[]}},{\"id\":\"c77fc70e-c027-4bdd-cb74-9efe64b30c3f\",\"type\":\"BoxZoomTool\",\"attributes\":{\"plot\":{\"id\":\"4323d333-fe4b-47ae-c720-624cf01f3eae\",\"type\":\"Plot\",\"subtype\":\"Figure\"},\"id\":\"c77fc70e-c027-4bdd-cb74-9efe64b30c3f\",\"tags\":[],\"doc\":null}},{\"id\":\"6761a806-b16f-4d65-cdfb-ac8a32d052d3\",\"type\":\"PreviewSaveTool\",\"attributes\":{\"plot\":{\"id\":\"4323d333-fe4b-47ae-c720-624cf01f3eae\",\"type\":\"Plot\",\"subtype\":\"Figure\"},\"id\":\"6761a806-b16f-4d65-cdfb-ac8a32d052d3\",\"tags\":[],\"doc\":null}},{\"id\":\"94195310-aa19-4ca4-ccff-ddd71d30ae2e\",\"type\":\"ResizeTool\",\"attributes\":{\"plot\":{\"id\":\"4323d333-fe4b-47ae-c720-624cf01f3eae\",\"type\":\"Plot\",\"subtype\":\"Figure\"},\"id\":\"94195310-aa19-4ca4-ccff-ddd71d30ae2e\",\"tags\":[],\"doc\":null}},{\"id\":\"1a51a132-5544-45d0-c517-c7413397c262\",\"type\":\"ResetTool\",\"attributes\":{\"plot\":{\"id\":\"4323d333-fe4b-47ae-c720-624cf01f3eae\",\"type\":\"Plot\",\"subtype\":\"Figure\"},\"id\":\"1a51a132-5544-45d0-c517-c7413397c262\",\"tags\":[],\"doc\":null}},{\"id\":\"4323d333-fe4b-47ae-c720-624cf01f3eae\",\"type\":\"Plot\",\"attributes\":{\"x_range\":{\"type\":\"DataRange1d\",\"id\":\"8fece7b3-34f4-4a7d-ca00-df339eec392a\"},\"tool_events\":{\"type\":\"ToolEvents\",\"id\":\"4e5f4750-9a88-4fca-cf9f-cd4ce3b7a203\"},\"below\":[{\"type\":\"LinearAxis\",\"id\":\"c743e878-2950-4f7e-cfc8-7835840a558a\"}],\"renderers\":[{\"type\":\"GlyphRenderer\",\"id\":\"5cff97a7-73c3-432a-c325-b8d3f3c8984a\"},{\"type\":\"LinearAxis\",\"id\":\"c743e878-2950-4f7e-cfc8-7835840a558a\"},{\"type\":\"Grid\",\"id\":\"80916607-4ec3-4111-c1ce-45221464354c\"},{\"type\":\"LinearAxis\",\"id\":\"fb1c0a8c-3974-4ba7-cb54-d027d9fce98f\"},{\"type\":\"Grid\",\"id\":\"3d45818a-b5bc-48e0-c871-129881dfe385\"}],\"above\":[],\"tools\":[{\"type\":\"PanTool\",\"id\":\"bb20367c-45be-4187-c160-91a65e1b87ee\"},{\"type\":\"WheelZoomTool\",\"id\":\"75deb4e1-de4b-4277-c2b6-03402a290f7d\"},{\"type\":\"BoxZoomTool\",\"id\":\"c77fc70e-c027-4bdd-cb74-9efe64b30c3f\"},{\"type\":\"PreviewSaveTool\",\"id\":\"6761a806-b16f-4d65-cdfb-ac8a32d052d3\"},{\"type\":\"ResizeTool\",\"id\":\"94195310-aa19-4ca4-ccff-ddd71d30ae2e\"},{\"type\":\"ResetTool\",\"id\":\"1a51a132-5544-45d0-c517-c7413397c262\"}],\"doc\":null,\"right\":[],\"title\":\"Loss over time\",\"extra_x_ranges\":{},\"left\":[{\"type\":\"LinearAxis\",\"id\":\"fb1c0a8c-3974-4ba7-cb54-d027d9fce98f\"}],\"y_range\":{\"type\":\"DataRange1d\",\"id\":\"51b3bdeb-9054-46ac-c68b-ae4a6f851315\"},\"id\":\"4323d333-fe4b-47ae-c720-624cf01f3eae\",\"extra_y_ranges\":{},\"tags\":[]}}];\n",
       "      Bokeh.load_models(all_models);\n",
       "      var model = Bokeh.Collections(modeltype).get(modelid);\n",
       "      $(\"#bb1614d0-945b-49bc-c939-478134e839e5\").html(''); // clear any previous plot in window_id\n",
       "      var view = new model.default_view({model: model, el: \"#bb1614d0-945b-49bc-c939-478134e839e5\"});\n",
       "  });\n",
       "    }\n",
       "});\n",
       "</script>\n",
       "<div class=\"plotdiv\" id=\"bb1614d0-945b-49bc-c939-478134e839e5\"></div>\n"
      ]
     },
     "metadata": {},
     "output_type": "display_data"
    }
   ],
   "source": [
    "net:cuda()\n",
    "w, grad = net:getParameters()\n",
    "state = { learningRate = 0.1,momentum = 0.9} \n",
    "batchSize = 128\n",
    "indexes = torch.range(1,trainset.data:size(1)-batchSize, batchSize)\n",
    "\n",
    "NumEpochs = 5\n",
    "mean_loss = torch.FloatTensor(NumEpochs):zero()\n",
    "net:training()\n",
    "\n",
    "for epoch=1,5 do\n",
    "  for i=1,indexes:size(1) do\n",
    "      local idx = indexes[i]\n",
    "      x  = trainset.data:narrow(1,idx,batchSize):cuda()\n",
    "      yt = trainset.label:narrow(1,idx,batchSize):cuda()\n",
    "\n",
    "      function eval()            --evaluation function\n",
    "          net:zeroGradParameters()\n",
    "          y = net:forward(x)\n",
    "          loss = criterion:forward(y,yt)\n",
    "          dE_dy = criterion:backward(y,yt)\n",
    "          net:backward(x,dE_dy)\n",
    "          mean_loss[epoch] = mean_loss[epoch] + loss/indexes:size(1)\n",
    "          return loss,grad\n",
    "      end\n",
    "        \n",
    "      optim.sgd(eval,w,state) --sgd can be replaced with 'adagrad','adadelta','rmsprop','cg','nag'...\n",
    "  end\n",
    "  print('Epoch = ',epoch,' Loss = ',mean_loss[epoch])\n",
    "  trainset.data,trainset.label = shuffle(trainset.data,trainset.label) --shuffle training data\n",
    "end\n",
    "\n",
    "Plot = require 'itorch.Plot'\n",
    "Plot._data = {}\n",
    "Plot:line(torch.range(1,NumEpochs),mean_loss,'blue'):title('Loss over time'):xaxis('Epoch'):yaxis('NLL Loss'):draw()\n"
   ]
  },
  {
   "cell_type": "markdown",
   "metadata": {},
   "source": [
    "__5. Test the network, print accuracy__\n",
    "\n",
    "We have trained the network for 5 epochs over the training dataset.  \n",
    "But we need to check if the network has learnt anything at all.  \n",
    "We will check this by predicting the class label that the neural network outputs, and checking it against the ground-truth. If the prediction is correct, we add the sample to the list of correct predictions."
   ]
  },
  {
   "cell_type": "markdown",
   "metadata": {},
   "source": [
    "Okay, first step. Let us display an image from the test set to get familiar."
   ]
  },
  {
   "cell_type": "code",
   "execution_count": 64,
   "metadata": {
    "collapsed": false
   },
   "outputs": [
    {
     "data": {
      "text/plain": [
       "automobile\t\n"
      ]
     },
     "execution_count": 64,
     "metadata": {},
     "output_type": "execute_result"
    },
    {
     "data": {
      "image/png": "[encoded data removed]",
      "text/plain": [
       "Console does not support images"
      ]
     },
     "metadata": {
      "image/png": {
       "height": 32,
       "width": 32
      }
     },
     "output_type": "display_data"
    }
   ],
   "source": [
    "net:evaluate()   --turn off dropout\n",
    "\n",
    "print(classes[testset.label[10]])\n",
    "itorch.image(testset.data[10])\n",
    "predicted = net:forward(testset.data[10]:view(1,3,32,32):cuda())"
   ]
  },
  {
   "cell_type": "code",
   "execution_count": 65,
   "metadata": {
    "collapsed": false
   },
   "outputs": [
    {
     "data": {
      "text/plain": [
       "Columns 1 to 6\n",
       " 4.6548e-03  9.0047e-01  3.7331e-05  1.9772e-05  4.8709e-06  2.5659e-06\n",
       "\n",
       "Columns 7 to 10\n",
       " 9.4628e-05  1.6155e-06  4.9786e-03  8.9737e-02\n",
       "[torch.CudaTensor of size 1x10]\n",
       "\n",
       "\n"
      ]
     },
     "execution_count": 65,
     "metadata": {},
     "output_type": "execute_result"
    }
   ],
   "source": [
    "-- the output of the network is Log-Probabilities. To convert them to probabilities, you have to take e^x \n",
    "print(predicted:exp())"
   ]
  },
  {
   "cell_type": "markdown",
   "metadata": {},
   "source": [
    "You can see the network predictions. The network assigned a probability to each classes, given the image.\n",
    "\n",
    "To make it clearer, let us tag each probability with it's class-name:"
   ]
  },
  {
   "cell_type": "code",
   "execution_count": 66,
   "metadata": {
    "collapsed": false
   },
   "outputs": [
    {
     "data": {
      "text/plain": [
       "airplane\t0.0046548135578632\t\n",
       "automobile\t0.90046828985214\t\n",
       "bird\t3.7330541090341e-05\t\n",
       "cat\t1.9772005543928e-05\t\n",
       "deer\t4.8709125621826e-06\t\n",
       "dog\t2.5659192033345e-06\t\n",
       "frog\t9.4628165243194e-05\t\n",
       "horse\t1.6155047433131e-06\t\n",
       "ship\t0.0049785524606705\t\n",
       "truck\t0.08973740041256\t\n"
      ]
     },
     "execution_count": 66,
     "metadata": {},
     "output_type": "execute_result"
    },
    {
     "data": {
      "text/html": [
       "<script type=\"text/javascript\">\n",
       "$(function() {\n",
       "    if (typeof (window._bokeh_onload_callbacks) === \"undefined\"){\n",
       "  window._bokeh_onload_callbacks = [];\n",
       "    }\n",
       "    function load_lib(url, callback){\n",
       "  window._bokeh_onload_callbacks.push(callback);\n",
       "  if (window._bokeh_is_loading){\n",
       "      console.log(\"Bokeh: BokehJS is being loaded, scheduling callback at\", new Date());\n",
       "      return null;\n",
       "  }\n",
       "  console.log(\"Bokeh: BokehJS not loaded, scheduling load and callback at\", new Date());\n",
       "  window._bokeh_is_loading = true;\n",
       "  var s = document.createElement('script');\n",
       "  s.src = url;\n",
       "  s.async = true;\n",
       "  s.onreadystatechange = s.onload = function(){\n",
       "      Bokeh.embed.inject_css(\"http://cdn.pydata.org/bokeh-0.7.0.min.css\");\n",
       "      window._bokeh_onload_callbacks.forEach(function(callback){callback()});\n",
       "  };\n",
       "  s.onerror = function(){\n",
       "      console.warn(\"failed to load library \" + url);\n",
       "  };\n",
       "  document.getElementsByTagName(\"head\")[0].appendChild(s);\n",
       "    }\n",
       "\n",
       "    bokehjs_url = \"http://cdn.pydata.org/bokeh-0.7.0.min.js\"\n",
       "\n",
       "    var elt = document.getElementById(\"73a28f59-d8c4-4ca4-cc71-71db7b52d8da\");\n",
       "    if(elt==null) {\n",
       "  console.log(\"Bokeh: ERROR: autoload.js configured with elementid '73a28f59-d8c4-4ca4-cc71-71db7b52d8da'\"\n",
       "        + \"but no matching script tag was found. \")\n",
       "  return false;\n",
       "    }\n",
       "\n",
       "    if(typeof(Bokeh) !== \"undefined\") {\n",
       "  console.log(\"Bokeh: BokehJS loaded, going straight to plotting\");\n",
       "  var modelid = \"770a7879-85d9-44b5-c45b-cb85ada0e4b4\";\n",
       "  var modeltype = \"Plot\";\n",
       "  var all_models = [{\"id\":\"a71a8a76-e69b-4118-c175-827ee8e15e47\",\"type\":\"ColumnDataSource\",\"attributes\":{\"data\":{\"y1\":[0.0046548135578632,0.90046828985214,3.7330541090341e-05,1.9772005543928e-05,4.8709125621826e-06,2.5659192033345e-06,9.4628165243194e-05,1.6155047433131e-06,0.0049785524606705,0.08973740041256],\"x0\":[0,1,2,3,4,5,6,7,8,9],\"x1\":[1,2,3,4,5,6,7,8,9,10],\"y0\":[0,0,0,0,0,0,0,0,0,0]},\"column_names\":[\"y1\",\"x0\",\"x1\",\"y0\"],\"cont_ranges\":{},\"discrete_ranges\":{},\"selected\":[],\"id\":\"a71a8a76-e69b-4118-c175-827ee8e15e47\",\"doc\":null,\"tags\":[]}},{\"id\":\"40bac8d1-c1ce-40d7-c075-6cf2da3b7a49\",\"type\":\"Quad\",\"attributes\":{\"fill_alpha\":{\"units\":\"data\",\"value\":0.7},\"bottom\":{\"units\":\"data\",\"field\":\"y0\"},\"doc\":null,\"right\":{\"units\":\"data\",\"field\":\"x1\"},\"fill_color\":{\"value\":\"red\"},\"top\":{\"units\":\"data\",\"field\":\"y1\"},\"line_color\":{\"value\":\"red\"},\"line_alpha\":{\"units\":\"data\",\"value\":1},\"id\":\"40bac8d1-c1ce-40d7-c075-6cf2da3b7a49\",\"left\":{\"units\":\"data\",\"field\":\"x0\"},\"tags\":[]}},{\"id\":\"29dbdcca-13b8-465c-c62c-f11701d2d55f\",\"type\":\"Quad\",\"attributes\":{\"fill_alpha\":{\"units\":\"data\",\"value\":0.7},\"bottom\":{\"units\":\"data\",\"field\":\"y0\"},\"doc\":null,\"right\":{\"units\":\"data\",\"field\":\"x1\"},\"fill_color\":{\"value\":\"red\"},\"top\":{\"units\":\"data\",\"field\":\"y1\"},\"line_color\":{\"value\":\"red\"},\"line_alpha\":{\"units\":\"data\",\"value\":1},\"id\":\"29dbdcca-13b8-465c-c62c-f11701d2d55f\",\"left\":{\"units\":\"data\",\"field\":\"x0\"},\"tags\":[]}},{\"id\":\"7ba73070-c8a2-463a-c65b-4cbfe905a631\",\"type\":\"GlyphRenderer\",\"attributes\":{\"name\":null,\"nonselection_glyph\":{\"type\":\"Quad\",\"id\":\"29dbdcca-13b8-465c-c62c-f11701d2d55f\"},\"doc\":null,\"server_data_source\":null,\"data_source\":{\"type\":\"ColumnDataSource\",\"id\":\"a71a8a76-e69b-4118-c175-827ee8e15e47\"},\"glyph\":{\"type\":\"Quad\",\"id\":\"40bac8d1-c1ce-40d7-c075-6cf2da3b7a49\"},\"selection_glyph\":null,\"id\":\"7ba73070-c8a2-463a-c65b-4cbfe905a631\",\"tags\":[]}},{\"id\":\"3947ced3-3f66-41f7-c106-fa9e2084efe8\",\"type\":\"DataRange1d\",\"attributes\":{\"sources\":[{\"columns\":[\"x0\",\"x1\"],\"source\":{\"type\":\"ColumnDataSource\",\"id\":\"a71a8a76-e69b-4118-c175-827ee8e15e47\"}}],\"id\":\"3947ced3-3f66-41f7-c106-fa9e2084efe8\",\"tags\":[],\"doc\":null}},{\"id\":\"c09c387b-2da4-4229-c2a9-3acb10180450\",\"type\":\"DataRange1d\",\"attributes\":{\"sources\":[{\"columns\":[\"y1\",\"y0\"],\"source\":{\"type\":\"ColumnDataSource\",\"id\":\"a71a8a76-e69b-4118-c175-827ee8e15e47\"}}],\"id\":\"c09c387b-2da4-4229-c2a9-3acb10180450\",\"tags\":[],\"doc\":null}},{\"id\":\"1d13f477-1aca-4ce6-ccd2-c780f6ef6aa8\",\"type\":\"ToolEvents\",\"attributes\":{\"tags\":[],\"id\":\"1d13f477-1aca-4ce6-ccd2-c780f6ef6aa8\",\"geometries\":[],\"doc\":null}},{\"id\":\"7808e58d-d4ef-4a9d-ca89-f0ba62006fb5\",\"type\":\"BasicTickFormatter\",\"attributes\":{\"id\":\"7808e58d-d4ef-4a9d-ca89-f0ba62006fb5\",\"tags\":[],\"doc\":null}},{\"id\":\"2696f77f-7553-4a80-cad1-6d504288b464\",\"type\":\"BasicTicker\",\"attributes\":{\"num_minor_ticks\":5,\"id\":\"2696f77f-7553-4a80-cad1-6d504288b464\",\"tags\":[],\"doc\":null}},{\"id\":\"1461cdfe-3e2b-4374-c321-22568e06dc06\",\"type\":\"LinearAxis\",\"attributes\":{\"formatter\":{\"type\":\"BasicTickFormatter\",\"id\":\"7808e58d-d4ef-4a9d-ca89-f0ba62006fb5\"},\"ticker\":{\"type\":\"BasicTicker\",\"id\":\"2696f77f-7553-4a80-cad1-6d504288b464\"},\"plot\":{\"id\":\"770a7879-85d9-44b5-c45b-cb85ada0e4b4\",\"type\":\"Plot\",\"subtype\":\"Figure\"},\"axis_label\":\"class #\",\"id\":\"1461cdfe-3e2b-4374-c321-22568e06dc06\",\"doc\":null,\"tags\":[]}},{\"id\":\"382cb003-441c-41d5-c177-bedbdfa3dd56\",\"type\":\"Grid\",\"attributes\":{\"dimension\":0,\"plot\":{\"id\":\"770a7879-85d9-44b5-c45b-cb85ada0e4b4\",\"type\":\"Plot\",\"subtype\":\"Figure\"},\"ticker\":{\"type\":\"BasicTicker\",\"id\":\"2696f77f-7553-4a80-cad1-6d504288b464\"},\"id\":\"382cb003-441c-41d5-c177-bedbdfa3dd56\",\"doc\":null,\"tags\":[]}},{\"id\":\"4dc13d2b-ceef-4739-c795-06eefa650722\",\"type\":\"BasicTickFormatter\",\"attributes\":{\"id\":\"4dc13d2b-ceef-4739-c795-06eefa650722\",\"tags\":[],\"doc\":null}},{\"id\":\"a1887881-678a-464a-c677-2d87728dba1c\",\"type\":\"BasicTicker\",\"attributes\":{\"num_minor_ticks\":5,\"id\":\"a1887881-678a-464a-c677-2d87728dba1c\",\"tags\":[],\"doc\":null}},{\"id\":\"ea18ed2b-a749-4c47-cc22-99fa0c0b0120\",\"type\":\"LinearAxis\",\"attributes\":{\"formatter\":{\"type\":\"BasicTickFormatter\",\"id\":\"4dc13d2b-ceef-4739-c795-06eefa650722\"},\"ticker\":{\"type\":\"BasicTicker\",\"id\":\"a1887881-678a-464a-c677-2d87728dba1c\"},\"plot\":{\"id\":\"770a7879-85d9-44b5-c45b-cb85ada0e4b4\",\"type\":\"Plot\",\"subtype\":\"Figure\"},\"axis_label\":\"Prob(class)\",\"id\":\"ea18ed2b-a749-4c47-cc22-99fa0c0b0120\",\"doc\":null,\"tags\":[]}},{\"id\":\"28becc0c-167e-49be-c900-03b0f38f7cb4\",\"type\":\"Grid\",\"attributes\":{\"dimension\":1,\"plot\":{\"id\":\"770a7879-85d9-44b5-c45b-cb85ada0e4b4\",\"type\":\"Plot\",\"subtype\":\"Figure\"},\"ticker\":{\"type\":\"BasicTicker\",\"id\":\"a1887881-678a-464a-c677-2d87728dba1c\"},\"id\":\"28becc0c-167e-49be-c900-03b0f38f7cb4\",\"doc\":null,\"tags\":[]}},{\"id\":\"f0fc08d5-b1b5-4594-c594-7a18d786a3c4\",\"type\":\"PanTool\",\"attributes\":{\"plot\":{\"id\":\"770a7879-85d9-44b5-c45b-cb85ada0e4b4\",\"type\":\"Plot\",\"subtype\":\"Figure\"},\"dimensions\":[\"width\",\"height\"],\"id\":\"f0fc08d5-b1b5-4594-c594-7a18d786a3c4\",\"doc\":null,\"tags\":[]}},{\"id\":\"ef2df7b9-1da9-4e85-ce01-aa19fe54735b\",\"type\":\"WheelZoomTool\",\"attributes\":{\"plot\":{\"id\":\"770a7879-85d9-44b5-c45b-cb85ada0e4b4\",\"type\":\"Plot\",\"subtype\":\"Figure\"},\"dimensions\":[\"width\",\"height\"],\"id\":\"ef2df7b9-1da9-4e85-ce01-aa19fe54735b\",\"doc\":null,\"tags\":[]}},{\"id\":\"73081c8b-2664-4b6e-cb56-74660e0da1e7\",\"type\":\"BoxZoomTool\",\"attributes\":{\"plot\":{\"id\":\"770a7879-85d9-44b5-c45b-cb85ada0e4b4\",\"type\":\"Plot\",\"subtype\":\"Figure\"},\"id\":\"73081c8b-2664-4b6e-cb56-74660e0da1e7\",\"tags\":[],\"doc\":null}},{\"id\":\"27b9e0a9-a2f7-4d4b-cde9-bcaa9c076652\",\"type\":\"PreviewSaveTool\",\"attributes\":{\"plot\":{\"id\":\"770a7879-85d9-44b5-c45b-cb85ada0e4b4\",\"type\":\"Plot\",\"subtype\":\"Figure\"},\"id\":\"27b9e0a9-a2f7-4d4b-cde9-bcaa9c076652\",\"tags\":[],\"doc\":null}},{\"id\":\"3eca45b8-539c-4b87-cbc4-1afc391edb62\",\"type\":\"ResizeTool\",\"attributes\":{\"plot\":{\"id\":\"770a7879-85d9-44b5-c45b-cb85ada0e4b4\",\"type\":\"Plot\",\"subtype\":\"Figure\"},\"id\":\"3eca45b8-539c-4b87-cbc4-1afc391edb62\",\"tags\":[],\"doc\":null}},{\"id\":\"ebb97398-a015-4cd5-cc8f-002d1cc4b941\",\"type\":\"ResetTool\",\"attributes\":{\"plot\":{\"id\":\"770a7879-85d9-44b5-c45b-cb85ada0e4b4\",\"type\":\"Plot\",\"subtype\":\"Figure\"},\"id\":\"ebb97398-a015-4cd5-cc8f-002d1cc4b941\",\"tags\":[],\"doc\":null}},{\"id\":\"770a7879-85d9-44b5-c45b-cb85ada0e4b4\",\"type\":\"Plot\",\"attributes\":{\"x_range\":{\"type\":\"DataRange1d\",\"id\":\"3947ced3-3f66-41f7-c106-fa9e2084efe8\"},\"tool_events\":{\"type\":\"ToolEvents\",\"id\":\"1d13f477-1aca-4ce6-ccd2-c780f6ef6aa8\"},\"below\":[{\"type\":\"LinearAxis\",\"id\":\"1461cdfe-3e2b-4374-c321-22568e06dc06\"}],\"renderers\":[{\"type\":\"GlyphRenderer\",\"id\":\"7ba73070-c8a2-463a-c65b-4cbfe905a631\"},{\"type\":\"LinearAxis\",\"id\":\"1461cdfe-3e2b-4374-c321-22568e06dc06\"},{\"type\":\"Grid\",\"id\":\"382cb003-441c-41d5-c177-bedbdfa3dd56\"},{\"type\":\"LinearAxis\",\"id\":\"ea18ed2b-a749-4c47-cc22-99fa0c0b0120\"},{\"type\":\"Grid\",\"id\":\"28becc0c-167e-49be-c900-03b0f38f7cb4\"}],\"above\":[],\"tools\":[{\"type\":\"PanTool\",\"id\":\"f0fc08d5-b1b5-4594-c594-7a18d786a3c4\"},{\"type\":\"WheelZoomTool\",\"id\":\"ef2df7b9-1da9-4e85-ce01-aa19fe54735b\"},{\"type\":\"BoxZoomTool\",\"id\":\"73081c8b-2664-4b6e-cb56-74660e0da1e7\"},{\"type\":\"PreviewSaveTool\",\"id\":\"27b9e0a9-a2f7-4d4b-cde9-bcaa9c076652\"},{\"type\":\"ResizeTool\",\"id\":\"3eca45b8-539c-4b87-cbc4-1afc391edb62\"},{\"type\":\"ResetTool\",\"id\":\"ebb97398-a015-4cd5-cc8f-002d1cc4b941\"}],\"doc\":null,\"right\":[],\"title\":\"Classification\",\"extra_x_ranges\":{},\"left\":[{\"type\":\"LinearAxis\",\"id\":\"ea18ed2b-a749-4c47-cc22-99fa0c0b0120\"}],\"y_range\":{\"type\":\"DataRange1d\",\"id\":\"c09c387b-2da4-4229-c2a9-3acb10180450\"},\"id\":\"770a7879-85d9-44b5-c45b-cb85ada0e4b4\",\"extra_y_ranges\":{},\"tags\":[]}}];\n",
       "  Bokeh.load_models(all_models);\n",
       "  var model = Bokeh.Collections(modeltype).get(modelid);\n",
       "  $(\"#73a28f59-d8c4-4ca4-cc71-71db7b52d8da\").html(''); // clear any previous plot in window_id\n",
       "  var view = new model.default_view({model: model, el: \"#73a28f59-d8c4-4ca4-cc71-71db7b52d8da\"});\n",
       "    } else {\n",
       "  load_lib(bokehjs_url, function() {\n",
       "      console.log(\"Bokeh: BokehJS plotting callback run at\", new Date())\n",
       "      var modelid = \"770a7879-85d9-44b5-c45b-cb85ada0e4b4\";\n",
       "      var modeltype = \"Plot\";\n",
       "      var all_models = [{\"id\":\"a71a8a76-e69b-4118-c175-827ee8e15e47\",\"type\":\"ColumnDataSource\",\"attributes\":{\"data\":{\"y1\":[0.0046548135578632,0.90046828985214,3.7330541090341e-05,1.9772005543928e-05,4.8709125621826e-06,2.5659192033345e-06,9.4628165243194e-05,1.6155047433131e-06,0.0049785524606705,0.08973740041256],\"x0\":[0,1,2,3,4,5,6,7,8,9],\"x1\":[1,2,3,4,5,6,7,8,9,10],\"y0\":[0,0,0,0,0,0,0,0,0,0]},\"column_names\":[\"y1\",\"x0\",\"x1\",\"y0\"],\"cont_ranges\":{},\"discrete_ranges\":{},\"selected\":[],\"id\":\"a71a8a76-e69b-4118-c175-827ee8e15e47\",\"doc\":null,\"tags\":[]}},{\"id\":\"40bac8d1-c1ce-40d7-c075-6cf2da3b7a49\",\"type\":\"Quad\",\"attributes\":{\"fill_alpha\":{\"units\":\"data\",\"value\":0.7},\"bottom\":{\"units\":\"data\",\"field\":\"y0\"},\"doc\":null,\"right\":{\"units\":\"data\",\"field\":\"x1\"},\"fill_color\":{\"value\":\"red\"},\"top\":{\"units\":\"data\",\"field\":\"y1\"},\"line_color\":{\"value\":\"red\"},\"line_alpha\":{\"units\":\"data\",\"value\":1},\"id\":\"40bac8d1-c1ce-40d7-c075-6cf2da3b7a49\",\"left\":{\"units\":\"data\",\"field\":\"x0\"},\"tags\":[]}},{\"id\":\"29dbdcca-13b8-465c-c62c-f11701d2d55f\",\"type\":\"Quad\",\"attributes\":{\"fill_alpha\":{\"units\":\"data\",\"value\":0.7},\"bottom\":{\"units\":\"data\",\"field\":\"y0\"},\"doc\":null,\"right\":{\"units\":\"data\",\"field\":\"x1\"},\"fill_color\":{\"value\":\"red\"},\"top\":{\"units\":\"data\",\"field\":\"y1\"},\"line_color\":{\"value\":\"red\"},\"line_alpha\":{\"units\":\"data\",\"value\":1},\"id\":\"29dbdcca-13b8-465c-c62c-f11701d2d55f\",\"left\":{\"units\":\"data\",\"field\":\"x0\"},\"tags\":[]}},{\"id\":\"7ba73070-c8a2-463a-c65b-4cbfe905a631\",\"type\":\"GlyphRenderer\",\"attributes\":{\"name\":null,\"nonselection_glyph\":{\"type\":\"Quad\",\"id\":\"29dbdcca-13b8-465c-c62c-f11701d2d55f\"},\"doc\":null,\"server_data_source\":null,\"data_source\":{\"type\":\"ColumnDataSource\",\"id\":\"a71a8a76-e69b-4118-c175-827ee8e15e47\"},\"glyph\":{\"type\":\"Quad\",\"id\":\"40bac8d1-c1ce-40d7-c075-6cf2da3b7a49\"},\"selection_glyph\":null,\"id\":\"7ba73070-c8a2-463a-c65b-4cbfe905a631\",\"tags\":[]}},{\"id\":\"3947ced3-3f66-41f7-c106-fa9e2084efe8\",\"type\":\"DataRange1d\",\"attributes\":{\"sources\":[{\"columns\":[\"x0\",\"x1\"],\"source\":{\"type\":\"ColumnDataSource\",\"id\":\"a71a8a76-e69b-4118-c175-827ee8e15e47\"}}],\"id\":\"3947ced3-3f66-41f7-c106-fa9e2084efe8\",\"tags\":[],\"doc\":null}},{\"id\":\"c09c387b-2da4-4229-c2a9-3acb10180450\",\"type\":\"DataRange1d\",\"attributes\":{\"sources\":[{\"columns\":[\"y1\",\"y0\"],\"source\":{\"type\":\"ColumnDataSource\",\"id\":\"a71a8a76-e69b-4118-c175-827ee8e15e47\"}}],\"id\":\"c09c387b-2da4-4229-c2a9-3acb10180450\",\"tags\":[],\"doc\":null}},{\"id\":\"1d13f477-1aca-4ce6-ccd2-c780f6ef6aa8\",\"type\":\"ToolEvents\",\"attributes\":{\"tags\":[],\"id\":\"1d13f477-1aca-4ce6-ccd2-c780f6ef6aa8\",\"geometries\":[],\"doc\":null}},{\"id\":\"7808e58d-d4ef-4a9d-ca89-f0ba62006fb5\",\"type\":\"BasicTickFormatter\",\"attributes\":{\"id\":\"7808e58d-d4ef-4a9d-ca89-f0ba62006fb5\",\"tags\":[],\"doc\":null}},{\"id\":\"2696f77f-7553-4a80-cad1-6d504288b464\",\"type\":\"BasicTicker\",\"attributes\":{\"num_minor_ticks\":5,\"id\":\"2696f77f-7553-4a80-cad1-6d504288b464\",\"tags\":[],\"doc\":null}},{\"id\":\"1461cdfe-3e2b-4374-c321-22568e06dc06\",\"type\":\"LinearAxis\",\"attributes\":{\"formatter\":{\"type\":\"BasicTickFormatter\",\"id\":\"7808e58d-d4ef-4a9d-ca89-f0ba62006fb5\"},\"ticker\":{\"type\":\"BasicTicker\",\"id\":\"2696f77f-7553-4a80-cad1-6d504288b464\"},\"plot\":{\"id\":\"770a7879-85d9-44b5-c45b-cb85ada0e4b4\",\"type\":\"Plot\",\"subtype\":\"Figure\"},\"axis_label\":\"class #\",\"id\":\"1461cdfe-3e2b-4374-c321-22568e06dc06\",\"doc\":null,\"tags\":[]}},{\"id\":\"382cb003-441c-41d5-c177-bedbdfa3dd56\",\"type\":\"Grid\",\"attributes\":{\"dimension\":0,\"plot\":{\"id\":\"770a7879-85d9-44b5-c45b-cb85ada0e4b4\",\"type\":\"Plot\",\"subtype\":\"Figure\"},\"ticker\":{\"type\":\"BasicTicker\",\"id\":\"2696f77f-7553-4a80-cad1-6d504288b464\"},\"id\":\"382cb003-441c-41d5-c177-bedbdfa3dd56\",\"doc\":null,\"tags\":[]}},{\"id\":\"4dc13d2b-ceef-4739-c795-06eefa650722\",\"type\":\"BasicTickFormatter\",\"attributes\":{\"id\":\"4dc13d2b-ceef-4739-c795-06eefa650722\",\"tags\":[],\"doc\":null}},{\"id\":\"a1887881-678a-464a-c677-2d87728dba1c\",\"type\":\"BasicTicker\",\"attributes\":{\"num_minor_ticks\":5,\"id\":\"a1887881-678a-464a-c677-2d87728dba1c\",\"tags\":[],\"doc\":null}},{\"id\":\"ea18ed2b-a749-4c47-cc22-99fa0c0b0120\",\"type\":\"LinearAxis\",\"attributes\":{\"formatter\":{\"type\":\"BasicTickFormatter\",\"id\":\"4dc13d2b-ceef-4739-c795-06eefa650722\"},\"ticker\":{\"type\":\"BasicTicker\",\"id\":\"a1887881-678a-464a-c677-2d87728dba1c\"},\"plot\":{\"id\":\"770a7879-85d9-44b5-c45b-cb85ada0e4b4\",\"type\":\"Plot\",\"subtype\":\"Figure\"},\"axis_label\":\"Prob(class)\",\"id\":\"ea18ed2b-a749-4c47-cc22-99fa0c0b0120\",\"doc\":null,\"tags\":[]}},{\"id\":\"28becc0c-167e-49be-c900-03b0f38f7cb4\",\"type\":\"Grid\",\"attributes\":{\"dimension\":1,\"plot\":{\"id\":\"770a7879-85d9-44b5-c45b-cb85ada0e4b4\",\"type\":\"Plot\",\"subtype\":\"Figure\"},\"ticker\":{\"type\":\"BasicTicker\",\"id\":\"a1887881-678a-464a-c677-2d87728dba1c\"},\"id\":\"28becc0c-167e-49be-c900-03b0f38f7cb4\",\"doc\":null,\"tags\":[]}},{\"id\":\"f0fc08d5-b1b5-4594-c594-7a18d786a3c4\",\"type\":\"PanTool\",\"attributes\":{\"plot\":{\"id\":\"770a7879-85d9-44b5-c45b-cb85ada0e4b4\",\"type\":\"Plot\",\"subtype\":\"Figure\"},\"dimensions\":[\"width\",\"height\"],\"id\":\"f0fc08d5-b1b5-4594-c594-7a18d786a3c4\",\"doc\":null,\"tags\":[]}},{\"id\":\"ef2df7b9-1da9-4e85-ce01-aa19fe54735b\",\"type\":\"WheelZoomTool\",\"attributes\":{\"plot\":{\"id\":\"770a7879-85d9-44b5-c45b-cb85ada0e4b4\",\"type\":\"Plot\",\"subtype\":\"Figure\"},\"dimensions\":[\"width\",\"height\"],\"id\":\"ef2df7b9-1da9-4e85-ce01-aa19fe54735b\",\"doc\":null,\"tags\":[]}},{\"id\":\"73081c8b-2664-4b6e-cb56-74660e0da1e7\",\"type\":\"BoxZoomTool\",\"attributes\":{\"plot\":{\"id\":\"770a7879-85d9-44b5-c45b-cb85ada0e4b4\",\"type\":\"Plot\",\"subtype\":\"Figure\"},\"id\":\"73081c8b-2664-4b6e-cb56-74660e0da1e7\",\"tags\":[],\"doc\":null}},{\"id\":\"27b9e0a9-a2f7-4d4b-cde9-bcaa9c076652\",\"type\":\"PreviewSaveTool\",\"attributes\":{\"plot\":{\"id\":\"770a7879-85d9-44b5-c45b-cb85ada0e4b4\",\"type\":\"Plot\",\"subtype\":\"Figure\"},\"id\":\"27b9e0a9-a2f7-4d4b-cde9-bcaa9c076652\",\"tags\":[],\"doc\":null}},{\"id\":\"3eca45b8-539c-4b87-cbc4-1afc391edb62\",\"type\":\"ResizeTool\",\"attributes\":{\"plot\":{\"id\":\"770a7879-85d9-44b5-c45b-cb85ada0e4b4\",\"type\":\"Plot\",\"subtype\":\"Figure\"},\"id\":\"3eca45b8-539c-4b87-cbc4-1afc391edb62\",\"tags\":[],\"doc\":null}},{\"id\":\"ebb97398-a015-4cd5-cc8f-002d1cc4b941\",\"type\":\"ResetTool\",\"attributes\":{\"plot\":{\"id\":\"770a7879-85d9-44b5-c45b-cb85ada0e4b4\",\"type\":\"Plot\",\"subtype\":\"Figure\"},\"id\":\"ebb97398-a015-4cd5-cc8f-002d1cc4b941\",\"tags\":[],\"doc\":null}},{\"id\":\"770a7879-85d9-44b5-c45b-cb85ada0e4b4\",\"type\":\"Plot\",\"attributes\":{\"x_range\":{\"type\":\"DataRange1d\",\"id\":\"3947ced3-3f66-41f7-c106-fa9e2084efe8\"},\"tool_events\":{\"type\":\"ToolEvents\",\"id\":\"1d13f477-1aca-4ce6-ccd2-c780f6ef6aa8\"},\"below\":[{\"type\":\"LinearAxis\",\"id\":\"1461cdfe-3e2b-4374-c321-22568e06dc06\"}],\"renderers\":[{\"type\":\"GlyphRenderer\",\"id\":\"7ba73070-c8a2-463a-c65b-4cbfe905a631\"},{\"type\":\"LinearAxis\",\"id\":\"1461cdfe-3e2b-4374-c321-22568e06dc06\"},{\"type\":\"Grid\",\"id\":\"382cb003-441c-41d5-c177-bedbdfa3dd56\"},{\"type\":\"LinearAxis\",\"id\":\"ea18ed2b-a749-4c47-cc22-99fa0c0b0120\"},{\"type\":\"Grid\",\"id\":\"28becc0c-167e-49be-c900-03b0f38f7cb4\"}],\"above\":[],\"tools\":[{\"type\":\"PanTool\",\"id\":\"f0fc08d5-b1b5-4594-c594-7a18d786a3c4\"},{\"type\":\"WheelZoomTool\",\"id\":\"ef2df7b9-1da9-4e85-ce01-aa19fe54735b\"},{\"type\":\"BoxZoomTool\",\"id\":\"73081c8b-2664-4b6e-cb56-74660e0da1e7\"},{\"type\":\"PreviewSaveTool\",\"id\":\"27b9e0a9-a2f7-4d4b-cde9-bcaa9c076652\"},{\"type\":\"ResizeTool\",\"id\":\"3eca45b8-539c-4b87-cbc4-1afc391edb62\"},{\"type\":\"ResetTool\",\"id\":\"ebb97398-a015-4cd5-cc8f-002d1cc4b941\"}],\"doc\":null,\"right\":[],\"title\":\"Classification\",\"extra_x_ranges\":{},\"left\":[{\"type\":\"LinearAxis\",\"id\":\"ea18ed2b-a749-4c47-cc22-99fa0c0b0120\"}],\"y_range\":{\"type\":\"DataRange1d\",\"id\":\"c09c387b-2da4-4229-c2a9-3acb10180450\"},\"id\":\"770a7879-85d9-44b5-c45b-cb85ada0e4b4\",\"extra_y_ranges\":{},\"tags\":[]}}];\n",
       "      Bokeh.load_models(all_models);\n",
       "      var model = Bokeh.Collections(modeltype).get(modelid);\n",
       "      $(\"#73a28f59-d8c4-4ca4-cc71-71db7b52d8da\").html(''); // clear any previous plot in window_id\n",
       "      var view = new model.default_view({model: model, el: \"#73a28f59-d8c4-4ca4-cc71-71db7b52d8da\"});\n",
       "  });\n",
       "    }\n",
       "});\n",
       "</script>\n",
       "<div class=\"plotdiv\" id=\"73a28f59-d8c4-4ca4-cc71-71db7b52d8da\"></div>\n"
      ]
     },
     "metadata": {},
     "output_type": "display_data"
    }
   ],
   "source": [
    "for i=1,predicted:size(2) do\n",
    "    print(classes[i],predicted[1][i])\n",
    "end\n",
    "preds= predicted[1]:float()\n",
    "Plot._data = {}\n",
    "line = torch.linspace(0,9,10)\n",
    "Plot:quad(line,torch.zeros(#classes),line+1,preds,'red',classes):xaxis('class #'):yaxis(\"Prob(class)\"):title('Classification'):draw()"
   ]
  },
  {
   "cell_type": "markdown",
   "metadata": {},
   "source": [
    "Alright, fine. Thats one single example, but how many in total seem to be correct over the test set?\n",
    "\n",
    "We will use optim's confusion matrix method, to evaluate over all test set samples."
   ]
  },
  {
   "cell_type": "code",
   "execution_count": 21,
   "metadata": {
    "collapsed": false
   },
   "outputs": [
    {
     "data": {
      "text/plain": [
       "ConfusionMatrix:\n",
       "[[     726      23      74      17      18       0       7      10      92      31]   72.745% \t[class: airplane]\n",
       " [      32     828      12      10       1       2       9       2      31      72]   82.883% \t[class: automobile]\n",
       " [      63       5     710      41      71      31      34      17      17      10]   71.071% \t[class: bird]\n",
       " [      29      14     157     478      75     101      75      30      25      13]   47.944% \t[class: cat]\n",
       " [      26       4     173      37     637      11      32      58      17       5]   63.700% \t[class: deer]\n",
       " [      17       8     141     191      48     496      24      47      16       9]   49.749% \t[class: dog]\n",
       " [       7       0     108      45      44       7     771       4      13       1]   77.100% \t[class: frog]\n",
       " [      21       2     109      28      74      40       1     700       8      14]   70.211% \t[class: horse]\n",
       " [      57      29      13      10       3       1       5       1     846      32]   84.855% \t[class: ship]\n",
       " [      45      76      24      10       6       2       4      17      27     789]]  78.900% \t[class: truck]\n",
       " + average row correct: 69.915771484375% \n",
       " + average rowUcol correct (VOC measure): 54.874173998833% \n",
       " + global correct: 69.921875%\t\n"
      ]
     },
     "execution_count": 21,
     "metadata": {},
     "output_type": "execute_result"
    }
   ],
   "source": [
    "confusionMatrix = optim.ConfusionMatrix(classes)\n",
    "indexes = torch.range(1,testset.data:size(1)-batchSize, batchSize)\n",
    "\n",
    "net:evaluate()\n",
    "\n",
    "for i=1,indexes:size(1) do\n",
    "    local idx = indexes[i]\n",
    "    x  = testset.data:narrow(1,idx,batchSize):cuda()\n",
    "    yt = testset.label:narrow(1,idx,batchSize):cuda()\n",
    "    local y = net:forward(x)\n",
    "    confusionMatrix:batchAdd(y,yt)\n",
    "end\n",
    "\n",
    "print(tostring(confusionMatrix))\n",
    "    "
   ]
  },
  {
   "cell_type": "markdown",
   "metadata": {},
   "source": [
    "That looks waaay better than chance, which is 10% accuracy (randomly picking a class out of 10 classes). Seems like the network learnt something."
   ]
  },
  {
   "cell_type": "markdown",
   "metadata": {},
   "source": [
    "##Visualizing Network Weights+Activations\n",
    "We can reach every value at each layer (output,weight,gradients) and visualize them.\n",
    "\n",
    "We get a layer and values using:"
   ]
  },
  {
   "cell_type": "code",
   "execution_count": 48,
   "metadata": {
    "collapsed": false
   },
   "outputs": [],
   "source": [
    "layer6 = net:get(6)\n",
    "\n",
    "layer6_weights = layer6.weights -- Getting the weights\n",
    "layer6_output = layer6.output -- Getting the output"
   ]
  },
  {
   "cell_type": "markdown",
   "metadata": {},
   "source": [
    "So visualizing the 1st layer weights is as simple as (scaling up so we can see anything):"
   ]
  },
  {
   "cell_type": "code",
   "execution_count": 49,
   "metadata": {
    "collapsed": false
   },
   "outputs": [
    {
     "data": {
      "image/png": "[encoded data removed]",
      "text/plain": [
       "Console does not support images"
      ]
     },
     "metadata": {
      "image/png": {
       "height": 200,
       "width": 200
      }
     },
     "output_type": "display_data"
    }
   ],
   "source": [
    "Weights_1st_Layer = net:get(1).weight\n",
    "scaledWeights = image.scale(image.toDisplayTensor({input=Weights_1st_Layer,padding=2}),200)\n",
    "itorch.image(scaledWeights)"
   ]
  },
  {
   "cell_type": "markdown",
   "metadata": {},
   "source": [
    "And to visualize network activation, we will feed another sample and examine the output of each layer"
   ]
  },
  {
   "cell_type": "code",
   "execution_count": 60,
   "metadata": {
    "collapsed": false
   },
   "outputs": [
    {
     "data": {
      "text/plain": [
       "Input Image\t\n"
      ]
     },
     "execution_count": 60,
     "metadata": {},
     "output_type": "execute_result"
    },
    {
     "data": {
      "image/png": "[encoded data removed]",
      "text/plain": [
       "Console does not support images"
      ]
     },
     "metadata": {
      "image/png": {
       "height": 32,
       "width": 32
      }
     },
     "output_type": "display_data"
    },
    {
     "data": {
      "text/plain": [
       "Layer \t1\tcudnn.SpatialConvolution\t\n"
      ]
     },
     "execution_count": 60,
     "metadata": {},
     "output_type": "execute_result"
    },
    {
     "data": {
      "text/plain": [
       "Layer \t2\tcudnn.SpatialMaxPooling\t\n"
      ]
     },
     "execution_count": 60,
     "metadata": {},
     "output_type": "execute_result"
    },
    {
     "data": {
      "image/png": "[encoded data removed]",
      "text/plain": [
       "Console does not support images"
      ]
     },
     "metadata": {
      "image/png": {
       "height": 180,
       "width": 180
      }
     },
     "output_type": "display_data"
    },
    {
     "data": {
      "image/png": "[encoded data removed]",
      "text/plain": [
       "Console does not support images"
      ]
     },
     "metadata": {
      "image/png": {
       "height": 96,
       "width": 96
      }
     },
     "output_type": "display_data"
    },
    {
     "data": {
      "text/plain": [
       "Layer \t3\tcudnn.ReLU\t\n"
      ]
     },
     "execution_count": 60,
     "metadata": {},
     "output_type": "execute_result"
    },
    {
     "data": {
      "text/plain": [
       "Layer \t4\tnn.SpatialBatchNormalization\t\n"
      ]
     },
     "execution_count": 60,
     "metadata": {},
     "output_type": "execute_result"
    },
    {
     "data": {
      "image/png": "[encoded data removed]",
      "text/plain": [
       "Console does not support images"
      ]
     },
     "metadata": {
      "image/png": {
       "height": 96,
       "width": 96
      }
     },
     "output_type": "display_data"
    },
    {
     "data": {
      "image/png": "[encoded data removed]",
      "text/plain": [
       "Console does not support images"
      ]
     },
     "metadata": {
      "image/png": {
       "height": 96,
       "width": 96
      }
     },
     "output_type": "display_data"
    },
    {
     "data": {
      "text/plain": [
       "Layer \t5\tcudnn.SpatialConvolution\t\n"
      ]
     },
     "execution_count": 60,
     "metadata": {},
     "output_type": "execute_result"
    },
    {
     "data": {
      "image/png": "[encoded data removed]",
      "text/plain": [
       "Console does not support images"
      ]
     },
     "metadata": {
      "image/png": {
       "height": 154,
       "width": 84
      }
     },
     "output_type": "display_data"
    },
    {
     "data": {
      "text/plain": [
       "Layer \t6\tcudnn.SpatialMaxPooling\t\n"
      ]
     },
     "execution_count": 60,
     "metadata": {},
     "output_type": "execute_result"
    },
    {
     "data": {
      "image/png": "[encoded data removed]",
      "text/plain": [
       "Console does not support images"
      ]
     },
     "metadata": {
      "image/png": {
       "height": 88,
       "width": 48
      }
     },
     "output_type": "display_data"
    },
    {
     "data": {
      "text/plain": [
       "Layer \t7\tcudnn.ReLU\t\n"
      ]
     },
     "execution_count": 60,
     "metadata": {},
     "output_type": "execute_result"
    },
    {
     "data": {
      "image/png": "[encoded data removed]",
      "text/plain": [
       "Console does not support images"
      ]
     },
     "metadata": {
      "image/png": {
       "height": 88,
       "width": 48
      }
     },
     "output_type": "display_data"
    },
    {
     "data": {
      "text/plain": [
       "Layer \t8\tnn.SpatialBatchNormalization\t\n"
      ]
     },
     "execution_count": 60,
     "metadata": {},
     "output_type": "execute_result"
    },
    {
     "data": {
      "image/png": "[encoded data removed]",
      "text/plain": [
       "Console does not support images"
      ]
     },
     "metadata": {
      "image/png": {
       "height": 88,
       "width": 48
      }
     },
     "output_type": "display_data"
    },
    {
     "data": {
      "text/plain": [
       "Layer \t9\tcudnn.SpatialConvolution\t\n"
      ]
     },
     "execution_count": 60,
     "metadata": {},
     "output_type": "execute_result"
    },
    {
     "data": {
      "image/png": "[encoded data removed]",
      "text/plain": [
       "Console does not support images"
      ]
     },
     "metadata": {
      "image/png": {
       "height": 36,
       "width": 36
      }
     },
     "output_type": "display_data"
    }
   ],
   "source": [
    "print('Input Image')\n",
    "itorch.image(testset.data[500])\n",
    "net:forward(testset.data[500]:view(1,3,32,32):cuda())\n",
    "for l=1,9 do\n",
    "  print('Layer ' ,l, tostring(net:get(l)))\n",
    "  layer_output = net:get(l).output[1]\n",
    "  itorch.image(layer_output)\n",
    "end"
   ]
  },
  {
   "cell_type": "markdown",
   "metadata": {},
   "source": [
    "**Goals achieved:**\n",
    "* Understand torch and the neural networks package at a high-level.\n",
    "* Train a small neural network on CPU and GPU"
   ]
  },
  {
   "cell_type": "markdown",
   "metadata": {},
   "source": [
    "### Where do I go next?"
   ]
  },
  {
   "cell_type": "markdown",
   "metadata": {},
   "source": [
    "* Build crazy graphs of networks: https://github.com/torch/nngraph\n",
    "* Train on imagenet with multiple GPUs: https://github.com/soumith/imagenet-multiGPU.torch\n",
    "* Train recurrent networks with LSTM on text: https://github.com/wojzaremba/lstm\n",
    "\n",
    "* More demos and tutorials: https://github.com/torch/torch7/wiki/Cheatsheet\n",
    "\n",
    "* Chat with developers of Torch: http://gitter.im/torch/torch7\n",
    "* Ask for help: http://groups.google.com/forum/#!forum/torch7\n"
   ]
  }
 ],
 "metadata": {
  "kernelspec": {
   "display_name": "iTorch",
   "language": "lua",
   "name": "itorch"
  },
  "language_info": {
   "name": "lua",
   "version": "20100"
  }
 },
 "nbformat": 4,
 "nbformat_minor": 0
}
